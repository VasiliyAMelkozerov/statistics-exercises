{
 "cells": [
  {
   "cell_type": "markdown",
   "id": "736332ce",
   "metadata": {},
   "source": [
    "# Exercises"
   ]
  },
  {
   "cell_type": "markdown",
   "id": "8bcbc135",
   "metadata": {},
   "source": [
    "## 1 A bank found that the average number of cars waiting during the noon hour at a drive-up window follows a Poisson distribution with a mean of 2 cars. Make a chart of this distribution and answer these questions concerning the probability of cars waiting at the drive-up window."
   ]
  },
  {
   "cell_type": "markdown",
   "id": "7ebcd31d",
   "metadata": {},
   "source": [
    "First: \n",
    "What am I reading?\n",
    "Chart info\n",
    "Make Chart"
   ]
  },
  {
   "cell_type": "code",
   "execution_count": 3,
   "id": "32aea2d9",
   "metadata": {},
   "outputs": [],
   "source": [
    "import matplotlib.pyplot as plt\n",
    "import numpy as np\n",
    "from scipy import stats\n",
    "import viz # curriculum viz example code"
   ]
  },
  {
   "cell_type": "code",
   "execution_count": 14,
   "id": "8250815c",
   "metadata": {},
   "outputs": [
    {
     "data": {
      "text/plain": [
       "0.1353352832366127"
      ]
     },
     "execution_count": 14,
     "metadata": {},
     "output_type": "execute_result"
    }
   ],
   "source": [
    "#What is the probability that no cars drive up in the noon hour?\n",
    "stats.poisson(2).pmf(0)"
   ]
  },
  {
   "cell_type": "code",
   "execution_count": 17,
   "id": "f67b7990",
   "metadata": {},
   "outputs": [
    {
     "data": {
      "text/plain": [
       "0.14287653950145296"
      ]
     },
     "execution_count": 17,
     "metadata": {},
     "output_type": "execute_result"
    }
   ],
   "source": [
    "#What is the probability that 3 or more cars come through the drive through?\n",
    "stats.poisson(2).sf(3)"
   ]
  },
  {
   "cell_type": "code",
   "execution_count": 19,
   "id": "d6a7d487",
   "metadata": {},
   "outputs": [
    {
     "data": {
      "text/plain": [
       "0.5939941502901616"
      ]
     },
     "execution_count": 19,
     "metadata": {},
     "output_type": "execute_result"
    }
   ],
   "source": [
    "#How likely is it that the drive through gets at least 1 car?\n",
    "stats.poisson(2).sf(1)"
   ]
  },
  {
   "cell_type": "markdown",
   "id": "86c3ce91",
   "metadata": {},
   "source": [
    "## 2 Grades of State University graduates are normally distributed with a mean of 3.0 and a standard deviation of .3. Calculate the following:"
   ]
  },
  {
   "cell_type": "code",
   "execution_count": null,
   "id": "84be1ff8",
   "metadata": {},
   "outputs": [],
   "source": []
  }
 ],
 "metadata": {
  "kernelspec": {
   "display_name": "Python 3 (ipykernel)",
   "language": "python",
   "name": "python3"
  },
  "language_info": {
   "codemirror_mode": {
    "name": "ipython",
    "version": 3
   },
   "file_extension": ".py",
   "mimetype": "text/x-python",
   "name": "python",
   "nbconvert_exporter": "python",
   "pygments_lexer": "ipython3",
   "version": "3.9.7"
  }
 },
 "nbformat": 4,
 "nbformat_minor": 5
}
