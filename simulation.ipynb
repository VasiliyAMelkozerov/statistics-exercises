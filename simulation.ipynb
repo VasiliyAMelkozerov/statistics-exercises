{
 "cells": [
  {
   "cell_type": "code",
   "execution_count": 2,
   "id": "4782990b",
   "metadata": {},
   "outputs": [],
   "source": [
    "%matplotlib inline\n",
    "\n",
    "import numpy as np\n",
    "import pandas as pd\n",
    "\n",
    "import viz # curriculum example visualizations"
   ]
  },
  {
   "cell_type": "code",
   "execution_count": 4,
   "id": "f76597f0",
   "metadata": {},
   "outputs": [
    {
     "data": {
      "text/plain": [
       "array([[6, 3, 4],\n",
       "       [5, 3, 5],\n",
       "       [6, 1, 3],\n",
       "       ...,\n",
       "       [4, 1, 3],\n",
       "       [3, 6, 5],\n",
       "       [3, 2, 6]])"
      ]
     },
     "execution_count": 4,
     "metadata": {},
     "output_type": "execute_result"
    }
   ],
   "source": [
    "n_trials = nrows = 10_000\n",
    "n_dice = ncols = 3\n",
    "\n",
    "rolls = np.random.choice([1, 2, 3, 4, 5, 6], n_trials * n_dice).reshape(nrows, ncols)\n",
    "rolls"
   ]
  },
  {
   "cell_type": "code",
   "execution_count": 23,
   "id": "6f6e7bb5",
   "metadata": {},
   "outputs": [
    {
     "data": {
      "text/plain": [
       "array([ 7, 10,  3, ...,  3,  4, 11])"
      ]
     },
     "execution_count": 23,
     "metadata": {},
     "output_type": "execute_result"
    }
   ],
   "source": [
    "sums_by_trial = rolls.sum(axis=1)\n",
    "sums_by_trial"
   ]
  },
  {
   "cell_type": "code",
   "execution_count": 9,
   "id": "9dd7462c",
   "metadata": {},
   "outputs": [
    {
     "data": {
      "image/png": "[encoded data removed]",
      "text/plain": [
       "<Figure size 432x288 with 1 Axes>"
      ]
     },
     "metadata": {
      "needs_background": "light"
     },
     "output_type": "display_data"
    }
   ],
   "source": [
    "viz.simulation_example1(sums_by_trial)"
   ]
  },
  {
   "cell_type": "code",
   "execution_count": 11,
   "id": "3c34cb61",
   "metadata": {},
   "outputs": [
    {
     "data": {
      "text/plain": [
       "array([ True,  True, False, ..., False,  True, False])"
      ]
     },
     "execution_count": 11,
     "metadata": {},
     "output_type": "execute_result"
    }
   ],
   "source": [
    "wins = sums_by_trial > 12\n",
    "wins"
   ]
  },
  {
   "cell_type": "code",
   "execution_count": 13,
   "id": "343b8aca",
   "metadata": {},
   "outputs": [
    {
     "data": {
      "text/plain": [
       "0.2552"
      ]
     },
     "execution_count": 13,
     "metadata": {},
     "output_type": "execute_result"
    }
   ],
   "source": [
    "win_rate = wins.astype(int).mean()\n",
    "win_rate"
   ]
  },
  {
   "cell_type": "code",
   "execution_count": 15,
   "id": "6fea1681",
   "metadata": {},
   "outputs": [
    {
     "data": {
      "text/plain": [
       "-1.1720000000000002"
      ]
     },
     "execution_count": 15,
     "metadata": {},
     "output_type": "execute_result"
    }
   ],
   "source": [
    "expected_winnings = win_rate * 15\n",
    "cost = 5\n",
    "expected_profit = expected_winnings - cost\n",
    "expected_profit"
   ]
  },
  {
   "cell_type": "code",
   "execution_count": 16,
   "id": "47cdddbc",
   "metadata": {},
   "outputs": [
    {
     "data": {
      "text/plain": [
       "0.5484999999999998"
      ]
     },
     "execution_count": 16,
     "metadata": {},
     "output_type": "execute_result"
    }
   ],
   "source": [
    "wins = sums_by_trial >= 12\n",
    "win_rate = wins.astype(int).mean()\n",
    "expected_winnings = win_rate * 15\n",
    "cost = 5\n",
    "expected_profit = expected_winnings - cost\n",
    "expected_profit"
   ]
  },
  {
   "cell_type": "code",
   "execution_count": 32,
   "id": "80c86e81",
   "metadata": {},
   "outputs": [
    {
     "data": {
      "text/plain": [
       "0.3067"
      ]
     },
     "execution_count": 32,
     "metadata": {},
     "output_type": "execute_result"
    }
   ],
   "source": [
    "n_trials = nrows = 10_000\n",
    "n_dice = ncols = 2\n",
    "\n",
    "rolls = np.random.choice([1, 2, 3, 4, 5, 6], n_trials * n_dice).reshape(nrows, ncols)\n",
    "rolls\n",
    "\n",
    "(pd.DataFrame(rolls)\n",
    " .apply(lambda row: n_dice == n_dice in row.values, axis=1)\n",
    " .mean())"
   ]
  },
  {
   "cell_type": "markdown",
   "id": "8054e314",
   "metadata": {},
   "source": [
    "## #1 How likely is it that you roll doubles when rolling two dice?"
   ]
  },
  {
   "cell_type": "code",
   "execution_count": 43,
   "id": "fc50b3f1",
   "metadata": {},
   "outputs": [
    {
     "data": {
      "text/plain": [
       "0.1681"
      ]
     },
     "execution_count": 43,
     "metadata": {},
     "output_type": "execute_result"
    }
   ],
   "source": [
    "# use lambda to evaluate a condition row-wise\n",
    "(pd.DataFrame(rolls).apply(lambda row: row[0] == row[1], axis =1)).mean()"
   ]
  },
  {
   "cell_type": "code",
   "execution_count": 26,
   "id": "50c7100c",
   "metadata": {},
   "outputs": [
    {
     "data": {
      "text/plain": [
       "array([8, 8, 7, ..., 4, 6, 4])"
      ]
     },
     "execution_count": 26,
     "metadata": {},
     "output_type": "execute_result"
    }
   ],
   "source": [
    "trial = rolls.sum(axis=1)\n",
    "trial"
   ]
  },
  {
   "cell_type": "markdown",
   "id": "b2a8b4c6",
   "metadata": {},
   "source": [
    "## #2 If you flip 8 coins, what is the probability of getting exactly 3 heads? What is the probability of getting more than 3 heads?"
   ]
  },
  {
   "cell_type": "code",
   "execution_count": 58,
   "id": "f6e44dde",
   "metadata": {},
   "outputs": [
    {
     "data": {
      "text/plain": [
       "0.2207"
      ]
     },
     "execution_count": 58,
     "metadata": {},
     "output_type": "execute_result"
    }
   ],
   "source": [
    "trial_n = nrows = 10_000\n",
    "\n",
    "coin = ncols = 8\n",
    "\n",
    "coin_flips = np.random.choice(['Heads','Tails'], trial_n * coin).reshape(nrows, ncols)\n",
    "\n",
    "# coin_flips = np.random.choice(['Heads','Tails'], coin * trial_n)\n",
    "n_heads = (coin_flips == 'Heads').sum(axis = 1)\n",
    "\n",
    "(n_heads == 3).mean()"
   ]
  },
  {
   "cell_type": "markdown",
   "id": "48e78024",
   "metadata": {},
   "source": [
    "## #3 There are approximitely 3 web development cohorts for every 1 data science cohort at Codeup. Assuming that Codeup randomly selects an alumni to put on a billboard, what are the odds that the two billboards I drive past both have data science students on them?"
   ]
  },
  {
   "cell_type": "code",
   "execution_count": 174,
   "id": "de3a6d3e",
   "metadata": {},
   "outputs": [],
   "source": [
    "#that tells me that it is 1 in 4 chance of picking a data science cohort\n",
    "trials=nrows=2\n",
    "face=ncols=1\n",
    "#the answer is 1 out of 8 chance of both being data science cohort\n",
    "web_dev = 0\n",
    "data_sci = 0\n",
    "cohorts = web_dev + data_sci\n",
    "\n",
    "# np.random.choice(['Web_dev','Web_dev','Web_dev','Data_sci']).mean()\n",
    "#run multiple times to render a result score\n",
    "#currently not running multiple times\n",
    "\n",
    "# billboard=np.random.choice([False,False,False,True], size=1000).reshape(2, 1000)\n",
    "# pd.Dataframe(billboard)\n",
    "# (pd.DataFrame(billboard).apply(lambda row: row[0] == row[1], axis =1)).mean()"
   ]
  },
  {
   "cell_type": "code",
   "execution_count": 172,
   "id": "f9faf10f",
   "metadata": {},
   "outputs": [],
   "source": [
    "# (pd.DataFrame(billboard).apply(lambda row: row[0] == row[1], axis =1)).mean()"
   ]
  },
  {
   "cell_type": "code",
   "execution_count": 169,
   "id": "559f3677",
   "metadata": {},
   "outputs": [],
   "source": [
    "billboards = 10**5\n",
    "cohort = 2\n",
    "sign = np.random.choice([1,0,0,0], billboards * cohort).reshape(billboards, cohort)\n",
    "sign = pd.DataFrame(sign)"
   ]
  },
  {
   "cell_type": "code",
   "execution_count": 187,
   "id": "a7aed49f",
   "metadata": {},
   "outputs": [
    {
     "data": {
      "text/html": [
       "<div>\n",
       "<style scoped>\n",
       "    .dataframe tbody tr th:only-of-type {\n",
       "        vertical-align: middle;\n",
       "    }\n",
       "\n",
       "    .dataframe tbody tr th {\n",
       "        vertical-align: top;\n",
       "    }\n",
       "\n",
       "    .dataframe thead th {\n",
       "        text-align: right;\n",
       "    }\n",
       "</style>\n",
       "<table border=\"1\" class=\"dataframe\">\n",
       "  <thead>\n",
       "    <tr style=\"text-align: right;\">\n",
       "      <th></th>\n",
       "      <th>0</th>\n",
       "      <th>1</th>\n",
       "    </tr>\n",
       "  </thead>\n",
       "  <tbody>\n",
       "    <tr>\n",
       "      <th>0</th>\n",
       "      <td>0</td>\n",
       "      <td>0</td>\n",
       "    </tr>\n",
       "    <tr>\n",
       "      <th>1</th>\n",
       "      <td>0</td>\n",
       "      <td>1</td>\n",
       "    </tr>\n",
       "    <tr>\n",
       "      <th>2</th>\n",
       "      <td>0</td>\n",
       "      <td>0</td>\n",
       "    </tr>\n",
       "    <tr>\n",
       "      <th>3</th>\n",
       "      <td>0</td>\n",
       "      <td>1</td>\n",
       "    </tr>\n",
       "    <tr>\n",
       "      <th>4</th>\n",
       "      <td>0</td>\n",
       "      <td>1</td>\n",
       "    </tr>\n",
       "    <tr>\n",
       "      <th>...</th>\n",
       "      <td>...</td>\n",
       "      <td>...</td>\n",
       "    </tr>\n",
       "    <tr>\n",
       "      <th>99995</th>\n",
       "      <td>0</td>\n",
       "      <td>1</td>\n",
       "    </tr>\n",
       "    <tr>\n",
       "      <th>99996</th>\n",
       "      <td>1</td>\n",
       "      <td>0</td>\n",
       "    </tr>\n",
       "    <tr>\n",
       "      <th>99997</th>\n",
       "      <td>0</td>\n",
       "      <td>0</td>\n",
       "    </tr>\n",
       "    <tr>\n",
       "      <th>99998</th>\n",
       "      <td>0</td>\n",
       "      <td>1</td>\n",
       "    </tr>\n",
       "    <tr>\n",
       "      <th>99999</th>\n",
       "      <td>0</td>\n",
       "      <td>0</td>\n",
       "    </tr>\n",
       "  </tbody>\n",
       "</table>\n",
       "<p>100000 rows × 2 columns</p>\n",
       "</div>"
      ],
      "text/plain": [
       "       0  1\n",
       "0      0  0\n",
       "1      0  1\n",
       "2      0  0\n",
       "3      0  1\n",
       "4      0  1\n",
       "...   .. ..\n",
       "99995  0  1\n",
       "99996  1  0\n",
       "99997  0  0\n",
       "99998  0  1\n",
       "99999  0  0\n",
       "\n",
       "[100000 rows x 2 columns]"
      ]
     },
     "execution_count": 187,
     "metadata": {},
     "output_type": "execute_result"
    }
   ],
   "source": [
    "sign"
   ]
  },
  {
   "cell_type": "code",
   "execution_count": 171,
   "id": "bb32e40d",
   "metadata": {},
   "outputs": [
    {
     "data": {
      "text/plain": [
       "0.06139"
      ]
     },
     "execution_count": 171,
     "metadata": {},
     "output_type": "execute_result"
    }
   ],
   "source": [
    "sign.apply((lambda row: row.sum() ==  2 ),axis=1).mean()"
   ]
  },
  {
   "cell_type": "markdown",
   "id": "62cbb0fa",
   "metadata": {},
   "source": [
    "## #4 Codeup students buy, on average, 3 poptart packages with a standard deviation of 1.5 a day from the snack vending machine. If on monday the machine is restocked with 17 poptart packages, how likely is it that I will be able to buy some poptarts on Friday afternoon? (Remember, if you have mean and standard deviation, use the np.random.normal)"
   ]
  },
  {
   "cell_type": "code",
   "execution_count": 195,
   "id": "b8c7518f",
   "metadata": {},
   "outputs": [
    {
     "data": {
      "text/plain": [
       "4.644141332387951"
      ]
     },
     "execution_count": 195,
     "metadata": {},
     "output_type": "execute_result"
    }
   ],
   "source": [
    "#students usually by 3 poptarts give or take about 1 and a half poptart(s)\n",
    "#run at squared rates of 100 similair to last problem\n",
    "average = 3\n",
    "standard_deviation = 1.5\n",
    "#giving us about 4.5 poptarts eaten daily * 5 = 20, instinctually we see that answer is not guaranteed\n",
    "#think of each day someone eats at least 3\n",
    "np.random.normal(loc=3,scale=1.5)"
   ]
  }
 ],
 "metadata": {
  "kernelspec": {
   "display_name": "Python 3 (ipykernel)",
   "language": "python",
   "name": "python3"
  },
  "language_info": {
   "codemirror_mode": {
    "name": "ipython",
    "version": 3
   },
   "file_extension": ".py",
   "mimetype": "text/x-python",
   "name": "python",
   "nbconvert_exporter": "python",
   "pygments_lexer": "ipython3",
   "version": "3.9.7"
  }
 },
 "nbformat": 4,
 "nbformat_minor": 5
}
