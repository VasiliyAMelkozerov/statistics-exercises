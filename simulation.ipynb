{
 "cells": [
  {
   "cell_type": "markdown",
   "id": "3f537c5f",
   "metadata": {},
   "source": [
    "# Stats Exercises"
   ]
  },
  {
   "cell_type": "code",
   "execution_count": 3,
   "id": "50947597",
   "metadata": {},
   "outputs": [],
   "source": [
    "%matplotlib inline\n",
    "import numpy as np\n",
    "import pandas as pd"
   ]
  },
  {
   "cell_type": "code",
   "execution_count": 188,
   "id": "dfac3921",
   "metadata": {},
   "outputs": [
    {
     "data": {
      "text/plain": [
       "array([['Fri', 'Wed', 'Tues'],\n",
       "       ['Thur', 'Tues', 'Wed'],\n",
       "       ['Mon', 'Mon', 'Wed'],\n",
       "       ...,\n",
       "       ['Thur', 'Mon', 'Tues'],\n",
       "       ['Wed', 'Tues', 'Fri'],\n",
       "       ['Mon', 'Mon', 'Tues']], dtype='<U4')"
      ]
     },
     "execution_count": 188,
     "metadata": {},
     "output_type": "execute_result"
    }
   ],
   "source": [
    "n_trials = nrows = 10_000\n",
    "n_dice = ncols = 3\n",
    "# [1, 2, 3, 4, 5, 6]\n",
    "rolls = np.random.choice(['Mon','Tues','Wed','Thur','Fri'], n_trials * n_dice).reshape(nrows, ncols)\n",
    "rolls"
   ]
  },
  {
   "cell_type": "code",
   "execution_count": 3,
   "id": "f2ffcf83",
   "metadata": {},
   "outputs": [
    {
     "data": {
      "text/plain": [
       "array([ 6, 11,  5, ..., 10,  9, 15])"
      ]
     },
     "execution_count": 3,
     "metadata": {},
     "output_type": "execute_result"
    }
   ],
   "source": [
    "sums_by_trial = rolls.sum(axis=1)\n",
    "sums_by_trial"
   ]
  },
  {
   "cell_type": "code",
   "execution_count": 282,
   "id": "f548e097",
   "metadata": {},
   "outputs": [],
   "source": [
    "# viz.simulation_example1(sums_by_trial)"
   ]
  },
  {
   "cell_type": "code",
   "execution_count": 5,
   "id": "44b9cb06",
   "metadata": {},
   "outputs": [
    {
     "data": {
      "text/plain": [
       "array([False, False, False, ..., False, False,  True])"
      ]
     },
     "execution_count": 5,
     "metadata": {},
     "output_type": "execute_result"
    }
   ],
   "source": [
    "wins = sums_by_trial > 12\n",
    "wins"
   ]
  },
  {
   "cell_type": "code",
   "execution_count": 6,
   "id": "74341276",
   "metadata": {},
   "outputs": [
    {
     "data": {
      "text/plain": [
       "0.2627"
      ]
     },
     "execution_count": 6,
     "metadata": {},
     "output_type": "execute_result"
    }
   ],
   "source": [
    "win_rate = wins.astype(int).mean()\n",
    "win_rate"
   ]
  },
  {
   "cell_type": "code",
   "execution_count": 7,
   "id": "c1d37f92",
   "metadata": {},
   "outputs": [
    {
     "data": {
      "text/plain": [
       "-1.0595000000000003"
      ]
     },
     "execution_count": 7,
     "metadata": {},
     "output_type": "execute_result"
    }
   ],
   "source": [
    "expected_winnings = win_rate * 15\n",
    "cost = 5\n",
    "expected_profit = expected_winnings - cost\n",
    "expected_profit"
   ]
  },
  {
   "cell_type": "code",
   "execution_count": 8,
   "id": "96f3fd25",
   "metadata": {},
   "outputs": [
    {
     "data": {
      "text/plain": [
       "0.6129999999999995"
      ]
     },
     "execution_count": 8,
     "metadata": {},
     "output_type": "execute_result"
    }
   ],
   "source": [
    "wins = sums_by_trial >= 12\n",
    "win_rate = wins.astype(int).mean()\n",
    "expected_winnings = win_rate * 15\n",
    "cost = 5\n",
    "expected_profit = expected_winnings - cost\n",
    "expected_profit"
   ]
  },
  {
   "cell_type": "code",
   "execution_count": 9,
   "id": "548e7a58",
   "metadata": {},
   "outputs": [
    {
     "data": {
      "text/plain": [
       "0.3051"
      ]
     },
     "execution_count": 9,
     "metadata": {},
     "output_type": "execute_result"
    }
   ],
   "source": [
    "n_trials = nrows = 10_000\n",
    "n_dice = ncols = 2\n",
    "\n",
    "rolls = np.random.choice([1, 2, 3, 4, 5, 6], n_trials * n_dice).reshape(nrows, ncols)\n",
    "rolls\n",
    "\n",
    "(pd.DataFrame(rolls)\n",
    " .apply(lambda row: n_dice == n_dice in row.values, axis=1)\n",
    " .mean())"
   ]
  },
  {
   "cell_type": "markdown",
   "id": "a0f0463d",
   "metadata": {},
   "source": [
    "## #1 How likely is it that you roll doubles when rolling two dice?"
   ]
  },
  {
   "cell_type": "code",
   "execution_count": 10,
   "id": "29c2d7bb",
   "metadata": {},
   "outputs": [
    {
     "data": {
      "text/plain": [
       "0.162"
      ]
     },
     "execution_count": 10,
     "metadata": {},
     "output_type": "execute_result"
    }
   ],
   "source": [
    "# use lambda to evaluate a condition row-wise\n",
    "(pd.DataFrame(rolls).apply(lambda row: row[0] == row[1], axis =1)).mean()"
   ]
  },
  {
   "cell_type": "code",
   "execution_count": 7,
   "id": "6eb7a086",
   "metadata": {},
   "outputs": [
    {
     "data": {
      "text/plain": [
       "0         8\n",
       "1         8\n",
       "2         6\n",
       "3         7\n",
       "4         4\n",
       "         ..\n",
       "99995     5\n",
       "99996     6\n",
       "99997     8\n",
       "99998    10\n",
       "99999     7\n",
       "Length: 100000, dtype: int64"
      ]
     },
     "execution_count": 7,
     "metadata": {},
     "output_type": "execute_result"
    }
   ],
   "source": [
    "trial = rolls.sum(axis=1)\n",
    "trial"
   ]
  },
  {
   "cell_type": "code",
   "execution_count": 5,
   "id": "2b936928",
   "metadata": {},
   "outputs": [
    {
     "data": {
      "text/html": [
       "<div>\n",
       "<style scoped>\n",
       "    .dataframe tbody tr th:only-of-type {\n",
       "        vertical-align: middle;\n",
       "    }\n",
       "\n",
       "    .dataframe tbody tr th {\n",
       "        vertical-align: top;\n",
       "    }\n",
       "\n",
       "    .dataframe thead th {\n",
       "        text-align: right;\n",
       "    }\n",
       "</style>\n",
       "<table border=\"1\" class=\"dataframe\">\n",
       "  <thead>\n",
       "    <tr style=\"text-align: right;\">\n",
       "      <th></th>\n",
       "      <th>die1</th>\n",
       "      <th>die2</th>\n",
       "    </tr>\n",
       "  </thead>\n",
       "  <tbody>\n",
       "    <tr>\n",
       "      <th>0</th>\n",
       "      <td>5</td>\n",
       "      <td>3</td>\n",
       "    </tr>\n",
       "    <tr>\n",
       "      <th>1</th>\n",
       "      <td>5</td>\n",
       "      <td>3</td>\n",
       "    </tr>\n",
       "    <tr>\n",
       "      <th>2</th>\n",
       "      <td>5</td>\n",
       "      <td>1</td>\n",
       "    </tr>\n",
       "    <tr>\n",
       "      <th>3</th>\n",
       "      <td>4</td>\n",
       "      <td>3</td>\n",
       "    </tr>\n",
       "    <tr>\n",
       "      <th>4</th>\n",
       "      <td>2</td>\n",
       "      <td>2</td>\n",
       "    </tr>\n",
       "  </tbody>\n",
       "</table>\n",
       "</div>"
      ],
      "text/plain": [
       "   die1  die2\n",
       "0     5     3\n",
       "1     5     3\n",
       "2     5     1\n",
       "3     4     3\n",
       "4     2     2"
      ]
     },
     "execution_count": 5,
     "metadata": {},
     "output_type": "execute_result"
    }
   ],
   "source": [
    "n_rows = 10_0000\n",
    "n_cols = 2 \n",
    "rolls = np.random.choice([1, 2, 3, 4, 5, 6], size=(n_rows, n_cols))\n",
    "rolls = pd.DataFrame(rolls, columns=[\"die1\", \"die2\"])\n",
    "rolls.head()"
   ]
  },
  {
   "cell_type": "code",
   "execution_count": 6,
   "id": "e1559d78",
   "metadata": {},
   "outputs": [
    {
     "data": {
      "text/plain": [
       "0.16772"
      ]
     },
     "execution_count": 6,
     "metadata": {},
     "output_type": "execute_result"
    }
   ],
   "source": [
    "(rolls.die1 == rolls.die2).mean()"
   ]
  },
  {
   "cell_type": "markdown",
   "id": "8978baea",
   "metadata": {},
   "source": [
    "## #2 If you flip 8 coins, what is the probability of getting exactly 3 heads? What is the probability of getting more than 3 heads?"
   ]
  },
  {
   "cell_type": "code",
   "execution_count": 33,
   "id": "860be624",
   "metadata": {},
   "outputs": [
    {
     "data": {
      "text/plain": [
       "(0.2226, 0.628)"
      ]
     },
     "execution_count": 33,
     "metadata": {},
     "output_type": "execute_result"
    }
   ],
   "source": [
    "trial_n = nrows = 10_000\n",
    "\n",
    "coin = ncols = 8\n",
    "\n",
    "coin_flips = np.random.choice(['Heads','Tails'], trial_n * coin).reshape(nrows, ncols)\n",
    "\n",
    "# coin_flips = np.random.choice(['Heads','Tails'], coin * trial_n)\n",
    "n_heads = (coin_flips == 'Heads').sum(axis = 1)\n",
    "# n_heads\n",
    "(n_heads == 3).mean() , (n_heads > 3).mean()"
   ]
  },
  {
   "cell_type": "code",
   "execution_count": 12,
   "id": "cf4f0856",
   "metadata": {},
   "outputs": [],
   "source": [
    "n_rows = 10_000\n",
    "n_cols = 8 # for flipping 8 coins at once\n",
    "flips = np.random.choice([\"Heads\", \"Tails\"], size=(10_000, 8))\n",
    "flips = pd.DataFrame(flips)"
   ]
  },
  {
   "cell_type": "code",
   "execution_count": 16,
   "id": "26019d6b",
   "metadata": {},
   "outputs": [
    {
     "data": {
      "text/html": [
       "<div>\n",
       "<style scoped>\n",
       "    .dataframe tbody tr th:only-of-type {\n",
       "        vertical-align: middle;\n",
       "    }\n",
       "\n",
       "    .dataframe tbody tr th {\n",
       "        vertical-align: top;\n",
       "    }\n",
       "\n",
       "    .dataframe thead th {\n",
       "        text-align: right;\n",
       "    }\n",
       "</style>\n",
       "<table border=\"1\" class=\"dataframe\">\n",
       "  <thead>\n",
       "    <tr style=\"text-align: right;\">\n",
       "      <th></th>\n",
       "      <th>0</th>\n",
       "      <th>1</th>\n",
       "      <th>2</th>\n",
       "      <th>3</th>\n",
       "      <th>4</th>\n",
       "      <th>5</th>\n",
       "      <th>6</th>\n",
       "      <th>7</th>\n",
       "    </tr>\n",
       "  </thead>\n",
       "  <tbody>\n",
       "    <tr>\n",
       "      <th>0</th>\n",
       "      <td>False</td>\n",
       "      <td>True</td>\n",
       "      <td>False</td>\n",
       "      <td>False</td>\n",
       "      <td>True</td>\n",
       "      <td>False</td>\n",
       "      <td>False</td>\n",
       "      <td>False</td>\n",
       "    </tr>\n",
       "    <tr>\n",
       "      <th>1</th>\n",
       "      <td>True</td>\n",
       "      <td>True</td>\n",
       "      <td>False</td>\n",
       "      <td>False</td>\n",
       "      <td>False</td>\n",
       "      <td>True</td>\n",
       "      <td>True</td>\n",
       "      <td>True</td>\n",
       "    </tr>\n",
       "    <tr>\n",
       "      <th>2</th>\n",
       "      <td>True</td>\n",
       "      <td>True</td>\n",
       "      <td>True</td>\n",
       "      <td>False</td>\n",
       "      <td>False</td>\n",
       "      <td>True</td>\n",
       "      <td>True</td>\n",
       "      <td>True</td>\n",
       "    </tr>\n",
       "    <tr>\n",
       "      <th>3</th>\n",
       "      <td>True</td>\n",
       "      <td>False</td>\n",
       "      <td>True</td>\n",
       "      <td>False</td>\n",
       "      <td>False</td>\n",
       "      <td>False</td>\n",
       "      <td>False</td>\n",
       "      <td>True</td>\n",
       "    </tr>\n",
       "    <tr>\n",
       "      <th>4</th>\n",
       "      <td>False</td>\n",
       "      <td>True</td>\n",
       "      <td>False</td>\n",
       "      <td>True</td>\n",
       "      <td>True</td>\n",
       "      <td>True</td>\n",
       "      <td>False</td>\n",
       "      <td>False</td>\n",
       "    </tr>\n",
       "  </tbody>\n",
       "</table>\n",
       "</div>"
      ],
      "text/plain": [
       "       0      1      2      3      4      5      6      7\n",
       "0  False   True  False  False   True  False  False  False\n",
       "1   True   True  False  False  False   True   True   True\n",
       "2   True   True   True  False  False   True   True   True\n",
       "3   True  False   True  False  False  False  False   True\n",
       "4  False   True  False   True   True   True  False  False"
      ]
     },
     "execution_count": 16,
     "metadata": {},
     "output_type": "execute_result"
    }
   ],
   "source": [
    "(flips == \"Heads\").head()"
   ]
  },
  {
   "cell_type": "code",
   "execution_count": 28,
   "id": "699ed257",
   "metadata": {},
   "outputs": [
    {
     "data": {
      "text/html": [
       "<div>\n",
       "<style scoped>\n",
       "    .dataframe tbody tr th:only-of-type {\n",
       "        vertical-align: middle;\n",
       "    }\n",
       "\n",
       "    .dataframe tbody tr th {\n",
       "        vertical-align: top;\n",
       "    }\n",
       "\n",
       "    .dataframe thead th {\n",
       "        text-align: right;\n",
       "    }\n",
       "</style>\n",
       "<table border=\"1\" class=\"dataframe\">\n",
       "  <thead>\n",
       "    <tr style=\"text-align: right;\">\n",
       "      <th></th>\n",
       "      <th>0</th>\n",
       "      <th>1</th>\n",
       "      <th>2</th>\n",
       "      <th>3</th>\n",
       "      <th>4</th>\n",
       "      <th>5</th>\n",
       "      <th>6</th>\n",
       "      <th>7</th>\n",
       "      <th>n_heads</th>\n",
       "    </tr>\n",
       "  </thead>\n",
       "  <tbody>\n",
       "    <tr>\n",
       "      <th>0</th>\n",
       "      <td>Tails</td>\n",
       "      <td>Heads</td>\n",
       "      <td>Tails</td>\n",
       "      <td>Tails</td>\n",
       "      <td>Heads</td>\n",
       "      <td>Tails</td>\n",
       "      <td>Tails</td>\n",
       "      <td>Tails</td>\n",
       "      <td>2</td>\n",
       "    </tr>\n",
       "    <tr>\n",
       "      <th>1</th>\n",
       "      <td>Heads</td>\n",
       "      <td>Heads</td>\n",
       "      <td>Tails</td>\n",
       "      <td>Tails</td>\n",
       "      <td>Tails</td>\n",
       "      <td>Heads</td>\n",
       "      <td>Heads</td>\n",
       "      <td>Heads</td>\n",
       "      <td>5</td>\n",
       "    </tr>\n",
       "    <tr>\n",
       "      <th>2</th>\n",
       "      <td>Heads</td>\n",
       "      <td>Heads</td>\n",
       "      <td>Heads</td>\n",
       "      <td>Tails</td>\n",
       "      <td>Tails</td>\n",
       "      <td>Heads</td>\n",
       "      <td>Heads</td>\n",
       "      <td>Heads</td>\n",
       "      <td>6</td>\n",
       "    </tr>\n",
       "    <tr>\n",
       "      <th>3</th>\n",
       "      <td>Heads</td>\n",
       "      <td>Tails</td>\n",
       "      <td>Heads</td>\n",
       "      <td>Tails</td>\n",
       "      <td>Tails</td>\n",
       "      <td>Tails</td>\n",
       "      <td>Tails</td>\n",
       "      <td>Heads</td>\n",
       "      <td>3</td>\n",
       "    </tr>\n",
       "    <tr>\n",
       "      <th>4</th>\n",
       "      <td>Tails</td>\n",
       "      <td>Heads</td>\n",
       "      <td>Tails</td>\n",
       "      <td>Heads</td>\n",
       "      <td>Heads</td>\n",
       "      <td>Heads</td>\n",
       "      <td>Tails</td>\n",
       "      <td>Tails</td>\n",
       "      <td>4</td>\n",
       "    </tr>\n",
       "  </tbody>\n",
       "</table>\n",
       "</div>"
      ],
      "text/plain": [
       "       0      1      2      3      4      5      6      7  n_heads\n",
       "0  Tails  Heads  Tails  Tails  Heads  Tails  Tails  Tails        2\n",
       "1  Heads  Heads  Tails  Tails  Tails  Heads  Heads  Heads        5\n",
       "2  Heads  Heads  Heads  Tails  Tails  Heads  Heads  Heads        6\n",
       "3  Heads  Tails  Heads  Tails  Tails  Tails  Tails  Heads        3\n",
       "4  Tails  Heads  Tails  Heads  Heads  Heads  Tails  Tails        4"
      ]
     },
     "execution_count": 28,
     "metadata": {},
     "output_type": "execute_result"
    }
   ],
   "source": [
    "flips[\"n_heads\"] = (flips == \"Heads\").sum(axis=1)\n",
    "flips.head()"
   ]
  },
  {
   "cell_type": "code",
   "execution_count": 26,
   "id": "86bb903d",
   "metadata": {},
   "outputs": [
    {
     "data": {
      "text/plain": [
       "0.2197"
      ]
     },
     "execution_count": 26,
     "metadata": {},
     "output_type": "execute_result"
    }
   ],
   "source": [
    "(flips.n_heads == 3).mean()"
   ]
  },
  {
   "cell_type": "code",
   "execution_count": 30,
   "id": "d1bc84bf",
   "metadata": {},
   "outputs": [
    {
     "data": {
      "text/plain": [
       "0.633"
      ]
     },
     "execution_count": 30,
     "metadata": {},
     "output_type": "execute_result"
    }
   ],
   "source": [
    "(flips.n_heads > 3).mean()"
   ]
  },
  {
   "cell_type": "markdown",
   "id": "4c1e05a5",
   "metadata": {},
   "source": [
    "## #3 There are approximitely 3 web development cohorts for every 1 data science cohort at Codeup. Assuming that Codeup randomly selects an alumni to put on a billboard, what are the odds that the two billboards I drive past both have data science students on them?"
   ]
  },
  {
   "cell_type": "code",
   "execution_count": 300,
   "id": "8743bdf5",
   "metadata": {},
   "outputs": [
    {
     "data": {
      "text/plain": [
       "array([['Data Science', 'Web Development'],\n",
       "       ['Data Science', 'Web Development'],\n",
       "       ['Web Development', 'Web Development'],\n",
       "       ...,\n",
       "       ['Web Development', 'Web Development'],\n",
       "       ['Data Science', 'Data Science'],\n",
       "       ['Web Development', 'Web Development']], dtype='<U15')"
      ]
     },
     "execution_count": 300,
     "metadata": {},
     "output_type": "execute_result"
    }
   ],
   "source": [
    "nrows=10_000\n",
    "ncols=2\n",
    "np.random.choice([\"Web Development\",\"Data Science\"], p =[.75,.25],size=(nrows,ncols))"
   ]
  },
  {
   "cell_type": "code",
   "execution_count": 15,
   "id": "2001e65f",
   "metadata": {},
   "outputs": [],
   "source": [
    "billboards = 10**5\n",
    "cohort = 2\n",
    "sign = np.random.choice([1,0,0,0], billboards * cohort).reshape(billboards, cohort)\n",
    "sign = pd.DataFrame(sign)"
   ]
  },
  {
   "cell_type": "code",
   "execution_count": 16,
   "id": "3c3cc139",
   "metadata": {},
   "outputs": [
    {
     "data": {
      "text/html": [
       "<div>\n",
       "<style scoped>\n",
       "    .dataframe tbody tr th:only-of-type {\n",
       "        vertical-align: middle;\n",
       "    }\n",
       "\n",
       "    .dataframe tbody tr th {\n",
       "        vertical-align: top;\n",
       "    }\n",
       "\n",
       "    .dataframe thead th {\n",
       "        text-align: right;\n",
       "    }\n",
       "</style>\n",
       "<table border=\"1\" class=\"dataframe\">\n",
       "  <thead>\n",
       "    <tr style=\"text-align: right;\">\n",
       "      <th></th>\n",
       "      <th>0</th>\n",
       "      <th>1</th>\n",
       "    </tr>\n",
       "  </thead>\n",
       "  <tbody>\n",
       "    <tr>\n",
       "      <th>0</th>\n",
       "      <td>1</td>\n",
       "      <td>0</td>\n",
       "    </tr>\n",
       "    <tr>\n",
       "      <th>1</th>\n",
       "      <td>0</td>\n",
       "      <td>0</td>\n",
       "    </tr>\n",
       "    <tr>\n",
       "      <th>2</th>\n",
       "      <td>0</td>\n",
       "      <td>0</td>\n",
       "    </tr>\n",
       "    <tr>\n",
       "      <th>3</th>\n",
       "      <td>0</td>\n",
       "      <td>1</td>\n",
       "    </tr>\n",
       "    <tr>\n",
       "      <th>4</th>\n",
       "      <td>0</td>\n",
       "      <td>0</td>\n",
       "    </tr>\n",
       "    <tr>\n",
       "      <th>...</th>\n",
       "      <td>...</td>\n",
       "      <td>...</td>\n",
       "    </tr>\n",
       "    <tr>\n",
       "      <th>99995</th>\n",
       "      <td>0</td>\n",
       "      <td>0</td>\n",
       "    </tr>\n",
       "    <tr>\n",
       "      <th>99996</th>\n",
       "      <td>1</td>\n",
       "      <td>0</td>\n",
       "    </tr>\n",
       "    <tr>\n",
       "      <th>99997</th>\n",
       "      <td>0</td>\n",
       "      <td>0</td>\n",
       "    </tr>\n",
       "    <tr>\n",
       "      <th>99998</th>\n",
       "      <td>1</td>\n",
       "      <td>0</td>\n",
       "    </tr>\n",
       "    <tr>\n",
       "      <th>99999</th>\n",
       "      <td>0</td>\n",
       "      <td>0</td>\n",
       "    </tr>\n",
       "  </tbody>\n",
       "</table>\n",
       "<p>100000 rows × 2 columns</p>\n",
       "</div>"
      ],
      "text/plain": [
       "       0  1\n",
       "0      1  0\n",
       "1      0  0\n",
       "2      0  0\n",
       "3      0  1\n",
       "4      0  0\n",
       "...   .. ..\n",
       "99995  0  0\n",
       "99996  1  0\n",
       "99997  0  0\n",
       "99998  1  0\n",
       "99999  0  0\n",
       "\n",
       "[100000 rows x 2 columns]"
      ]
     },
     "execution_count": 16,
     "metadata": {},
     "output_type": "execute_result"
    }
   ],
   "source": [
    "sign"
   ]
  },
  {
   "cell_type": "code",
   "execution_count": 37,
   "id": "7dc39098",
   "metadata": {},
   "outputs": [
    {
     "data": {
      "text/plain": [
       "0.3166"
      ]
     },
     "execution_count": 37,
     "metadata": {},
     "output_type": "execute_result"
    }
   ],
   "source": [
    "board = np.random.choice([\"Web Development\", \"Data Science\"], p=[.75, .25], size=(n_rows, n_cols))\n",
    "board = pd.DataFrame(board)\n",
    "board[\"number_of_data_science\"] = (board == \"Data Science\").sum(axis=1)\n",
    "(board.number_of_data_science == 2).mean()"
   ]
  },
  {
   "cell_type": "code",
   "execution_count": 17,
   "id": "75d48886",
   "metadata": {},
   "outputs": [
    {
     "data": {
      "text/plain": [
       "0.0602"
      ]
     },
     "execution_count": 17,
     "metadata": {},
     "output_type": "execute_result"
    }
   ],
   "source": [
    "sign.apply((lambda row: row.sum() ==  2 ), axis=1).mean()"
   ]
  },
  {
   "cell_type": "markdown",
   "id": "b39e9bd5",
   "metadata": {},
   "source": [
    "## #4 Codeup students buy, on average, 3 poptart packages with a standard deviation of 1.5 a day from the snack vending machine. If on monday the machine is restocked with 17 poptart packages, how likely is it that I will be able to buy some poptarts on Friday afternoon? (Remember, if you have mean and standard deviation, use the np.random.normal)"
   ]
  },
  {
   "cell_type": "code",
   "execution_count": 39,
   "id": "51bf62fd",
   "metadata": {},
   "outputs": [
    {
     "data": {
      "text/html": [
       "<div>\n",
       "<style scoped>\n",
       "    .dataframe tbody tr th:only-of-type {\n",
       "        vertical-align: middle;\n",
       "    }\n",
       "\n",
       "    .dataframe tbody tr th {\n",
       "        vertical-align: top;\n",
       "    }\n",
       "\n",
       "    .dataframe thead th {\n",
       "        text-align: right;\n",
       "    }\n",
       "</style>\n",
       "<table border=\"1\" class=\"dataframe\">\n",
       "  <thead>\n",
       "    <tr style=\"text-align: right;\">\n",
       "      <th></th>\n",
       "      <th>Monday</th>\n",
       "      <th>Tuesday</th>\n",
       "      <th>Wedday</th>\n",
       "      <th>Thurday</th>\n",
       "      <th>Friday</th>\n",
       "    </tr>\n",
       "  </thead>\n",
       "  <tbody>\n",
       "    <tr>\n",
       "      <th>0</th>\n",
       "      <td>3.0</td>\n",
       "      <td>4.0</td>\n",
       "      <td>2.0</td>\n",
       "      <td>4.0</td>\n",
       "      <td>2.0</td>\n",
       "    </tr>\n",
       "    <tr>\n",
       "      <th>1</th>\n",
       "      <td>4.0</td>\n",
       "      <td>2.0</td>\n",
       "      <td>2.0</td>\n",
       "      <td>4.0</td>\n",
       "      <td>1.0</td>\n",
       "    </tr>\n",
       "    <tr>\n",
       "      <th>2</th>\n",
       "      <td>6.0</td>\n",
       "      <td>4.0</td>\n",
       "      <td>6.0</td>\n",
       "      <td>0.0</td>\n",
       "      <td>-1.0</td>\n",
       "    </tr>\n",
       "    <tr>\n",
       "      <th>3</th>\n",
       "      <td>3.0</td>\n",
       "      <td>3.0</td>\n",
       "      <td>5.0</td>\n",
       "      <td>3.0</td>\n",
       "      <td>4.0</td>\n",
       "    </tr>\n",
       "    <tr>\n",
       "      <th>4</th>\n",
       "      <td>4.0</td>\n",
       "      <td>2.0</td>\n",
       "      <td>4.0</td>\n",
       "      <td>2.0</td>\n",
       "      <td>3.0</td>\n",
       "    </tr>\n",
       "  </tbody>\n",
       "</table>\n",
       "</div>"
      ],
      "text/plain": [
       "   Monday  Tuesday  Wedday  Thurday  Friday\n",
       "0     3.0      4.0     2.0      4.0     2.0\n",
       "1     4.0      2.0     2.0      4.0     1.0\n",
       "2     6.0      4.0     6.0      0.0    -1.0\n",
       "3     3.0      3.0     5.0      3.0     4.0\n",
       "4     4.0      2.0     4.0      2.0     3.0"
      ]
     },
     "execution_count": 39,
     "metadata": {},
     "output_type": "execute_result"
    }
   ],
   "source": [
    "n_rows = 10_000\n",
    "n_cols = 5 \n",
    "µ = 3\n",
    "σ = 1.5\n",
    "poptarts = np.random.normal(µ, σ, size=(n_rows, n_cols)).round()\n",
    "poptarts = pd.DataFrame(poptarts, columns=[\"Monday\", \"Tuesday\", \"Wedday\", \"Thurday\", \"Friday\"])\n",
    "poptarts.head()"
   ]
  },
  {
   "cell_type": "code",
   "execution_count": 46,
   "id": "e5a19724",
   "metadata": {},
   "outputs": [
    {
     "data": {
      "text/html": [
       "<div>\n",
       "<style scoped>\n",
       "    .dataframe tbody tr th:only-of-type {\n",
       "        vertical-align: middle;\n",
       "    }\n",
       "\n",
       "    .dataframe tbody tr th {\n",
       "        vertical-align: top;\n",
       "    }\n",
       "\n",
       "    .dataframe thead th {\n",
       "        text-align: right;\n",
       "    }\n",
       "</style>\n",
       "<table border=\"1\" class=\"dataframe\">\n",
       "  <thead>\n",
       "    <tr style=\"text-align: right;\">\n",
       "      <th></th>\n",
       "      <th>Monday</th>\n",
       "      <th>Tuesday</th>\n",
       "      <th>Wedday</th>\n",
       "      <th>Thurday</th>\n",
       "      <th>Friday</th>\n",
       "      <th>n_consumed</th>\n",
       "    </tr>\n",
       "  </thead>\n",
       "  <tbody>\n",
       "    <tr>\n",
       "      <th>0</th>\n",
       "      <td>3.0</td>\n",
       "      <td>4.0</td>\n",
       "      <td>2.0</td>\n",
       "      <td>4.0</td>\n",
       "      <td>2.0</td>\n",
       "      <td>15.0</td>\n",
       "    </tr>\n",
       "    <tr>\n",
       "      <th>1</th>\n",
       "      <td>4.0</td>\n",
       "      <td>2.0</td>\n",
       "      <td>2.0</td>\n",
       "      <td>4.0</td>\n",
       "      <td>1.0</td>\n",
       "      <td>13.0</td>\n",
       "    </tr>\n",
       "    <tr>\n",
       "      <th>2</th>\n",
       "      <td>6.0</td>\n",
       "      <td>4.0</td>\n",
       "      <td>6.0</td>\n",
       "      <td>0.0</td>\n",
       "      <td>-1.0</td>\n",
       "      <td>15.0</td>\n",
       "    </tr>\n",
       "    <tr>\n",
       "      <th>3</th>\n",
       "      <td>3.0</td>\n",
       "      <td>3.0</td>\n",
       "      <td>5.0</td>\n",
       "      <td>3.0</td>\n",
       "      <td>4.0</td>\n",
       "      <td>18.0</td>\n",
       "    </tr>\n",
       "    <tr>\n",
       "      <th>4</th>\n",
       "      <td>4.0</td>\n",
       "      <td>2.0</td>\n",
       "      <td>4.0</td>\n",
       "      <td>2.0</td>\n",
       "      <td>3.0</td>\n",
       "      <td>15.0</td>\n",
       "    </tr>\n",
       "  </tbody>\n",
       "</table>\n",
       "</div>"
      ],
      "text/plain": [
       "   Monday  Tuesday  Wedday  Thurday  Friday  n_consumed\n",
       "0     3.0      4.0     2.0      4.0     2.0        15.0\n",
       "1     4.0      2.0     2.0      4.0     1.0        13.0\n",
       "2     6.0      4.0     6.0      0.0    -1.0        15.0\n",
       "3     3.0      3.0     5.0      3.0     4.0        18.0\n",
       "4     4.0      2.0     4.0      2.0     3.0        15.0"
      ]
     },
     "execution_count": 46,
     "metadata": {},
     "output_type": "execute_result"
    }
   ],
   "source": [
    "poptarts[\"n_consumed\"] = poptarts.sum(axis=1)\n",
    "poptarts.head()"
   ]
  },
  {
   "cell_type": "code",
   "execution_count": 47,
   "id": "840a25a9",
   "metadata": {},
   "outputs": [
    {
     "data": {
      "text/plain": [
       "0.6683"
      ]
     },
     "execution_count": 47,
     "metadata": {},
     "output_type": "execute_result"
    }
   ],
   "source": [
    "(poptarts.n_consumed < 17).mean()"
   ]
  },
  {
   "cell_type": "markdown",
   "id": "a02a7cff",
   "metadata": {},
   "source": [
    "## Exercise 5 "
   ]
  },
  {
   "cell_type": "code",
   "execution_count": 50,
   "id": "d55e951e",
   "metadata": {},
   "outputs": [
    {
     "data": {
      "text/plain": [
       "0.2073"
      ]
     },
     "execution_count": 50,
     "metadata": {},
     "output_type": "execute_result"
    }
   ],
   "source": [
    "m_heights = np.random.normal(178, 8, size=10_000)\n",
    "f_heights = np.random.normal(170, 6, size=10_000)\n",
    "#the asumption being men are taller then woman\n",
    "#here is the average likelyhood of a woman being taller then a man\n",
    "(f_heights > m_heights).mean()"
   ]
  },
  {
   "cell_type": "markdown",
   "id": "f27942f2",
   "metadata": {},
   "source": [
    "## Exercise 6\n",
    "When installing anaconda on a student's computer, there's a 1 in 250 chance that the download is corrupted and the installation fails.\n",
    "\n",
    "    What are the odds that after having 50 students download anaconda, no one has an installation issue?\n",
    "\n",
    "    100 students?\n",
    "\n",
    "    What is the probability that we observe an installation issue within the first 150 students that download anaconda?\n",
    "\n",
    "    How likely is it that 450 students all download anaconda without an issue?\n"
   ]
  },
  {
   "cell_type": "code",
   "execution_count": 53,
   "id": "c2cc37d1",
   "metadata": {},
   "outputs": [
    {
     "data": {
      "text/plain": [
       "0.81964"
      ]
     },
     "execution_count": 53,
     "metadata": {},
     "output_type": "execute_result"
    }
   ],
   "source": [
    "n_rows = 100_000\n",
    "n_columns = 50\n",
    "installs = np.random.choice([0, 1], p=[0.004, 0.996], size=(n_rows, n_columns))\n",
    "(installs.sum(axis=1) == 50).mean()\n",
    "#the probability of no issues"
   ]
  },
  {
   "cell_type": "code",
   "execution_count": 56,
   "id": "a408be5a",
   "metadata": {},
   "outputs": [
    {
     "data": {
      "text/plain": [
       "0.67043"
      ]
     },
     "execution_count": 56,
     "metadata": {},
     "output_type": "execute_result"
    }
   ],
   "source": [
    "n_columns = 100\n",
    "installs = np.random.choice([0, 1], p=[0.004, 0.996], size=(n_rows, n_columns))\n",
    "(installs.sum(axis=1) == 100).mean()\n",
    "#a smaller run of a 100 people who would get an issue"
   ]
  },
  {
   "cell_type": "code",
   "execution_count": 58,
   "id": "6b22e4d5",
   "metadata": {},
   "outputs": [
    {
     "data": {
      "text/plain": [
       "0.55199"
      ]
     },
     "execution_count": 58,
     "metadata": {},
     "output_type": "execute_result"
    }
   ],
   "source": [
    "n_columns = 150\n",
    "installs = np.random.choice([0, 1], p=[0.004, 0.996], size=(n_rows, n_columns))\n",
    "(installs.sum(axis=1) == 150).mean()"
   ]
  },
  {
   "cell_type": "code",
   "execution_count": 59,
   "id": "10a49cc4",
   "metadata": {},
   "outputs": [
    {
     "data": {
      "text/plain": [
       "0.16542"
      ]
     },
     "execution_count": 59,
     "metadata": {},
     "output_type": "execute_result"
    }
   ],
   "source": [
    "n_columns = 450\n",
    "installs = np.random.choice([0, 1], p=[0.004, 0.996], size=(n_rows, n_columns))\n",
    "(installs.sum(axis=1) == 450).mean()"
   ]
  },
  {
   "cell_type": "markdown",
   "id": "80b943c4",
   "metadata": {},
   "source": [
    "## Exercise 7 \n",
    "There's a 70% chance on any given day that there will be at least one food truck at Travis Park. However, you haven't seen a food truck there in 3 days. How unlikely is this? How likely is it that a food truck will show up sometime this week?"
   ]
  },
  {
   "cell_type": "code",
   "execution_count": 64,
   "id": "719ad2ab",
   "metadata": {},
   "outputs": [
    {
     "data": {
      "text/plain": [
       "0.0277"
      ]
     },
     "execution_count": 64,
     "metadata": {},
     "output_type": "execute_result"
    }
   ],
   "source": [
    "n_rows = 10_000\n",
    "n_cols = 3\n",
    "trucks = np.random.choice([1, 0], size=(n_rows, n_cols), p=[0.7, 0.3])\n",
    "(trucks.sum(axis=1) == 0).mean()"
   ]
  },
  {
   "cell_type": "markdown",
   "id": "9debe333",
   "metadata": {},
   "source": [
    "## Exercise 8\n",
    "If 23 people are in the same room, what are the odds that two of them share a birthday? What if it's 20 people? 40?"
   ]
  },
  {
   "cell_type": "code",
   "execution_count": 70,
   "id": "672491c1",
   "metadata": {},
   "outputs": [
    {
     "data": {
      "text/plain": [
       "0.5046"
      ]
     },
     "execution_count": 70,
     "metadata": {},
     "output_type": "execute_result"
    }
   ],
   "source": [
    "trails = 10_000\n",
    "people = 23 \n",
    "birthdays = np.random.choice(range(365), size=(trails, people))\n",
    "birthdays = pd.DataFrame(birthdays)\n",
    "birthdays[\"n_unique\"] = birthdays.nunique(axis=1)\n",
    "(birthdays.n_unique != 23).mean()"
   ]
  },
  {
   "cell_type": "code",
   "execution_count": 73,
   "id": "9ab7f48c",
   "metadata": {},
   "outputs": [
    {
     "data": {
      "text/plain": [
       "0.4082"
      ]
     },
     "execution_count": 73,
     "metadata": {},
     "output_type": "execute_result"
    }
   ],
   "source": [
    "trails = 10_000\n",
    "people = 20\n",
    "birthdays = np.random.choice(range(365), size=(trails, people))\n",
    "birthdays = pd.DataFrame(birthdays)\n",
    "birthdays[\"n_unique\"] = birthdays.nunique(axis=1)\n",
    "(birthdays.n_unique != 20).mean()"
   ]
  },
  {
   "cell_type": "code",
   "execution_count": 74,
   "id": "76a9ee62",
   "metadata": {},
   "outputs": [
    {
     "data": {
      "text/plain": [
       "0.8916"
      ]
     },
     "execution_count": 74,
     "metadata": {},
     "output_type": "execute_result"
    }
   ],
   "source": [
    "trails = 10_000\n",
    "people = 40 \n",
    "birthdays = np.random.choice(range(365), size=(trails, people))\n",
    "birthdays = pd.DataFrame(birthdays)\n",
    "birthdays[\"n_unique\"] = birthdays.nunique(axis=1)\n",
    "(birthdays.n_unique != 40).mean()"
   ]
  }
 ],
 "metadata": {
  "kernelspec": {
   "display_name": "Python 3 (ipykernel)",
   "language": "python",
   "name": "python3"
  },
  "language_info": {
   "codemirror_mode": {
    "name": "ipython",
    "version": 3
   },
   "file_extension": ".py",
   "mimetype": "text/x-python",
   "name": "python",
   "nbconvert_exporter": "python",
   "pygments_lexer": "ipython3",
   "version": "3.9.7"
  }
 },
 "nbformat": 4,
 "nbformat_minor": 5
}
