{
 "cells": [
  {
   "cell_type": "markdown",
   "id": "cff0ccc6",
   "metadata": {},
   "source": [
    "# Exercises \n",
    "For each of the following questions, formulate a null and alternative hypothesis (be as specific as you can be), then give an example of what a true positive, true negative, type I and type II errors would look like. Note that some of the questions are intentionally phrased in a vague way. It is your job to reword these as more precise questions that could be tested.\n",
    "- Has the network latency gone up since we switched internet service providers?\n",
    "- Is the website redesign any good?\n",
    "- Is our television ad driving more sales?"
   ]
  },
  {
   "cell_type": "markdown",
   "id": "53754956",
   "metadata": {},
   "source": [
    "## null hypotheses\n",
    "- no it has be the same\n",
    "- yes the redesign is fine, there is no difference\n",
    "- no it is pulling the same amount of viewers"
   ]
  },
  {
   "cell_type": "markdown",
   "id": "4145f1f5",
   "metadata": {},
   "source": [
    "## alternative hypotheses\n",
    "- there is a different latency then the last provider (more or less)\n",
    "- there is a changed amount of users on the website (more or less)\n",
    "- the ad is now pulling more customers, or getting less engagment"
   ]
  },
  {
   "cell_type": "markdown",
   "id": "fee6759b",
   "metadata": {},
   "source": [
    "## true positive\n",
    "- there is an decrease in latency after switch to new provider\n",
    "- the website redesign was good, greater overall customer interaction\n",
    "- the television ad is successfully bringing in more sales"
   ]
  },
  {
   "cell_type": "markdown",
   "id": "b075648f",
   "metadata": {},
   "source": [
    "## type 1 error\n",
    "- the internet feels faster when in reality not\n",
    "- the website initially had a gain then fell back down to the median\n",
    "- sales have increased but when surveyed the customers did not list the ad as seen"
   ]
  },
  {
   "cell_type": "markdown",
   "id": "deffe35c",
   "metadata": {},
   "source": [
    "## true negative\n",
    "- there is no difference is latency or speed\n",
    "- the website is too complicated\n",
    "- the television ad doesn't bring in more attention or money"
   ]
  },
  {
   "cell_type": "markdown",
   "id": "b7b8d993",
   "metadata": {},
   "source": [
    "## type 2 error\n",
    "- when testing the internet speed there is no difference but internet can now stream hd\n",
    "- cannot tell on the website but revenew is returning higher\n",
    "- the add is not referenced in purchase, purchases are increasing"
   ]
  },
  {
   "cell_type": "markdown",
   "id": "5c486533",
   "metadata": {},
   "source": [
    "# T-test Exercises\n",
    "- Ace Realty wants to determine whether the average time it takes to sell homes is different for its two offices. A sample of 40 sales from office #1 revealed a mean of 90 days and a standard deviation of 15 days. A sample of 50 sales from office #2 revealed a mean of 100 days and a standard deviation of 20 days. Use a .05 level of significance."
   ]
  },
  {
   "cell_type": "code",
   "execution_count": 1,
   "id": "c9da143a",
   "metadata": {},
   "outputs": [],
   "source": [
    "import pandas as pd\n",
    "import matplotlib.pyplot as plt\n",
    "import scipy.stats as stats\n",
    "import seaborn as sns\n",
    "from pydataset import data\n",
    "import numpy as  np\n",
    "# import env\n",
    "import scipy\n",
    "from math import sqrt"
   ]
  },
  {
   "cell_type": "markdown",
   "id": "d84bdb59",
   "metadata": {},
   "source": [
    "luckily there is  the first question to answer\n",
    "- Office 1\n",
    "- - 40 sales T/ mean of 90 days P/ 15 day std A\n",
    "- Office 2\n",
    "- - 50 sales T/ mean of 100 days P/ 20 day std A\n",
    "- significance .05"
   ]
  },
  {
   "cell_type": "code",
   "execution_count": null,
   "id": "05e5d573",
   "metadata": {},
   "outputs": [],
   "source": [
    "mean1=90\n",
    "sdev1=15\n",
    "nobs1=40\n",
    "mean2=100\n",
    "sdev2=20\n",
    "nobs2=50\n",
    "\n",
    "t, p = scipy.stats.ttest_ind_from_stats(mean1, sdev1, nobs1, \n",
    "                                        mean2, sdev2, nobs2,\n",
    "                                        equal_var = False)"
   ]
  },
  {
   "cell_type": "code",
   "execution_count": null,
   "id": "28d6f5ee",
   "metadata": {},
   "outputs": [],
   "source": [
    "t"
   ]
  },
  {
   "cell_type": "code",
   "execution_count": null,
   "id": "48a62191",
   "metadata": {},
   "outputs": [],
   "source": [
    "p"
   ]
  },
  {
   "cell_type": "code",
   "execution_count": null,
   "id": "4c161600",
   "metadata": {},
   "outputs": [],
   "source": [
    "# α = 0.05\n",
    "\n",
    "# tstat, pval = scipy.stats.ttest_ind(equal_var = False)\n",
    "\n",
    "# t, p , α"
   ]
  },
  {
   "cell_type": "markdown",
   "id": "1309ff01",
   "metadata": {},
   "source": [
    "- Load the mpg dataset and use it to answer the following questions:\n",
    "- - Is there a difference in fuel-efficiency in cars from 2008 vs 1999?\n",
    "- - Are compact cars more fuel-efficient than the average car?\n",
    "- - Do manual cars get better gas mileage than automatic cars?"
   ]
  },
  {
   "cell_type": "code",
   "execution_count": null,
   "id": "68360d9f",
   "metadata": {},
   "outputs": [],
   "source": [
    "df = data('mpg')\n",
    "df.head(100)"
   ]
  },
  {
   "cell_type": "code",
   "execution_count": null,
   "id": "1495439d",
   "metadata": {},
   "outputs": [],
   "source": [
    "df.info()"
   ]
  },
  {
   "cell_type": "markdown",
   "id": "43826f85",
   "metadata": {},
   "source": [
    "Only cars from either 1999 or 2008 exist on this list"
   ]
  },
  {
   "cell_type": "code",
   "execution_count": null,
   "id": "e6c3697c",
   "metadata": {},
   "outputs": [],
   "source": [
    "df.year.unique()"
   ]
  },
  {
   "cell_type": "code",
   "execution_count": null,
   "id": "8b899cb0",
   "metadata": {},
   "outputs": [],
   "source": [
    "df[df.year == 1999]"
   ]
  },
  {
   "cell_type": "code",
   "execution_count": null,
   "id": "9c460268",
   "metadata": {},
   "outputs": [],
   "source": [
    "df[df.year == 1999].count()"
   ]
  },
  {
   "cell_type": "code",
   "execution_count": null,
   "id": "f4ae00ad",
   "metadata": {},
   "outputs": [],
   "source": [
    "df[df.year== 2008].count()"
   ]
  },
  {
   "cell_type": "code",
   "execution_count": null,
   "id": "2a63db81",
   "metadata": {},
   "outputs": [],
   "source": [
    "df[df.year == 1999].hwy.mean()"
   ]
  },
  {
   "cell_type": "code",
   "execution_count": null,
   "id": "b6ba9977",
   "metadata": {},
   "outputs": [],
   "source": [
    "df[df.year == 1999].cty.mean()"
   ]
  },
  {
   "cell_type": "code",
   "execution_count": null,
   "id": "f691e493",
   "metadata": {},
   "outputs": [],
   "source": [
    "df[df.year == 1999].hwy.mean() + df[df.year == 1999].cty.mean() /2\n",
    "#1999 average for 1999 mpg + hwy"
   ]
  },
  {
   "cell_type": "code",
   "execution_count": null,
   "id": "7c882ff2",
   "metadata": {},
   "outputs": [],
   "source": [
    "df[df.year== 2008].hwy.mean()"
   ]
  },
  {
   "cell_type": "code",
   "execution_count": null,
   "id": "d439acdc",
   "metadata": {},
   "outputs": [],
   "source": [
    "df[df.year== 2008].cty.mean()"
   ]
  },
  {
   "cell_type": "code",
   "execution_count": null,
   "id": "ad6a6e2b",
   "metadata": {},
   "outputs": [],
   "source": [
    "df[df.year == 2008].hwy.mean() + df[df.year == 2008].cty.mean() /2\n",
    "#2008 average city and highway mpg"
   ]
  },
  {
   "cell_type": "code",
   "execution_count": null,
   "id": "91908f26",
   "metadata": {},
   "outputs": [],
   "source": [
    "df.head()"
   ]
  },
  {
   "cell_type": "code",
   "execution_count": null,
   "id": "0b35bb80",
   "metadata": {},
   "outputs": [],
   "source": [
    "df[df[\"class\"] == \"compact\"]"
   ]
  },
  {
   "cell_type": "code",
   "execution_count": null,
   "id": "37f11117",
   "metadata": {},
   "outputs": [],
   "source": [
    "df[df['class'] == \"compact\"].cty.mean()\n",
    "#df[df.class == \"compact\"].hwy.mean() / 2"
   ]
  },
  {
   "cell_type": "code",
   "execution_count": null,
   "id": "c5d06a6b",
   "metadata": {},
   "outputs": [],
   "source": [
    "df[df['class'] == \"compact\"].hwy.mean()"
   ]
  },
  {
   "cell_type": "code",
   "execution_count": null,
   "id": "9c483246",
   "metadata": {},
   "outputs": [],
   "source": [
    "df[df['class'] == \"compact\"].cty.mean() + df[df['class'] == \"compact\"].hwy.mean() / 2"
   ]
  },
  {
   "cell_type": "code",
   "execution_count": null,
   "id": "b9d83ea2",
   "metadata": {},
   "outputs": [],
   "source": [
    "df[df['class'] == \"compact\"].cty.mean()"
   ]
  },
  {
   "cell_type": "code",
   "execution_count": null,
   "id": "f2594b47",
   "metadata": {},
   "outputs": [],
   "source": [
    "#H_0: Average time to sell at office 1 == average time to sell  at office 1\n",
    "#H_a: Average time to sell at office 1 != average time to sell  at office 2"
   ]
  },
  {
   "cell_type": "code",
   "execution_count": null,
   "id": "4402d8eb",
   "metadata": {},
   "outputs": [],
   "source": [
    "alpha = 0.05"
   ]
  },
  {
   "cell_type": "code",
   "execution_count": null,
   "id": "4c90686a",
   "metadata": {},
   "outputs": [],
   "source": [
    "# visualize distributions\n",
    "\n",
    "x = np.arange(50,150)\n",
    "\n",
    "y1 = stats.norm(90,15).pdf(x)\n",
    "y2 = stats.norm(100,20).pdf(x)\n",
    "\n",
    "plt.plot(x, y1 , label = \"Office\")\n",
    "plt.plot(x, y2, label = \"Office 2\")\n",
    "plt.avxline(90, ls='t')\n",
    "plt.avxline(100, ls=':', color = 'orange')\n",
    "\n",
    "plt.legend()"
   ]
  },
  {
   "cell_type": "code",
   "execution_count": null,
   "id": "054c8b83",
   "metadata": {},
   "outputs": [],
   "source": [
    "t, p = stats.ttest_ind_from_stats(90,15,40,100,20,50,equal_var=False)\n",
    "t, p"
   ]
  },
  {
   "cell_type": "code",
   "execution_count": null,
   "id": "8bc54f0a",
   "metadata": {},
   "outputs": [],
   "source": [
    "if p < alpha:\n",
    "    print(\"We reject the null hypothesis\")\n",
    "    "
   ]
  },
  {
   "cell_type": "code",
   "execution_count": null,
   "id": "a81bc42e",
   "metadata": {},
   "outputs": [],
   "source": [
    "mpg = data('mpg')"
   ]
  },
  {
   "cell_type": "code",
   "execution_count": null,
   "id": "3bc5185f",
   "metadata": {},
   "outputs": [],
   "source": [
    "mpg.head()"
   ]
  },
  {
   "cell_type": "code",
   "execution_count": null,
   "id": "b0abbd30",
   "metadata": {},
   "outputs": [],
   "source": [
    "#H_0: There is no difference in fuel efficiency in cars from 2008 & 1999\n",
    "#H_a: There is a diffrence in cars"
   ]
  },
  {
   "cell_type": "code",
   "execution_count": null,
   "id": "6491dd78",
   "metadata": {},
   "outputs": [],
   "source": [
    "mpg['avg_fe'] = stats.hmean(mpg[['cty','hwy']], axis =1)\n",
    "mpg.head()"
   ]
  },
  {
   "cell_type": "code",
   "execution_count": null,
   "id": "ff83e666",
   "metadata": {},
   "outputs": [],
   "source": [
    "fe_2008 = mpg[mpg.year == 2008].avg_fe\n",
    "fe_1999 = mpg[mpg.year == 1999].avg_fe"
   ]
  },
  {
   "cell_type": "code",
   "execution_count": null,
   "id": "4baaf39d",
   "metadata": {},
   "outputs": [],
   "source": [
    "fe_2008.hist()"
   ]
  },
  {
   "cell_type": "code",
   "execution_count": null,
   "id": "ceb7cd69",
   "metadata": {},
   "outputs": [],
   "source": [
    "fe_1999.hist()"
   ]
  },
  {
   "cell_type": "code",
   "execution_count": null,
   "id": "a185c29b",
   "metadata": {},
   "outputs": [],
   "source": [
    "fe_2008.count()"
   ]
  },
  {
   "cell_type": "code",
   "execution_count": null,
   "id": "7b18de4f",
   "metadata": {},
   "outputs": [],
   "source": [
    "fe_1999.count() # normality not issue"
   ]
  },
  {
   "cell_type": "code",
   "execution_count": null,
   "id": "f782fd52",
   "metadata": {},
   "outputs": [],
   "source": [
    "#what about variance\n",
    "fe_2008.var(), fe_1999.var()"
   ]
  },
  {
   "cell_type": "code",
   "execution_count": null,
   "id": "4b34fee8",
   "metadata": {},
   "outputs": [],
   "source": [
    "# Levens test\n",
    "stats.levene(fe_2008, fe_1999)"
   ]
  },
  {
   "cell_type": "code",
   "execution_count": null,
   "id": "817af799",
   "metadata": {},
   "outputs": [],
   "source": [
    "#calculate t & p\n",
    "t, p = stats.ttest_ind(fe_2008,fe_1999)\n",
    "t, p"
   ]
  },
  {
   "cell_type": "code",
   "execution_count": null,
   "id": "e7e4f6c2",
   "metadata": {},
   "outputs": [],
   "source": [
    "if p < alpha:\n",
    "    print('reject null')\n",
    "else:\n",
    "    print('fail to reject null')"
   ]
  },
  {
   "cell_type": "code",
   "execution_count": null,
   "id": "d9a74538",
   "metadata": {},
   "outputs": [],
   "source": [
    "fe_2008.mean(), fe_1999.mean()"
   ]
  },
  {
   "cell_type": "code",
   "execution_count": null,
   "id": "5da505c4",
   "metadata": {},
   "outputs": [],
   "source": [
    "plt.hist([fe_1999, fe_2008], label=[\"1999 cars\",'2008 cars'])"
   ]
  },
  {
   "cell_type": "code",
   "execution_count": null,
   "id": "48f7f74b",
   "metadata": {},
   "outputs": [],
   "source": [
    "#H_0: MPG for compact cars <= mpg for the average car\n",
    "#H_a: MPG for compact cars > mpg for the average car"
   ]
  },
  {
   "cell_type": "code",
   "execution_count": null,
   "id": "6fecad72",
   "metadata": {},
   "outputs": [],
   "source": [
    "fe_compact = mpg[mpg['class'] == 'compact'].avg_fe\n",
    "pop_mean = mpg.avg_fe.mean()"
   ]
  },
  {
   "cell_type": "code",
   "execution_count": null,
   "id": "7861aff4",
   "metadata": {},
   "outputs": [],
   "source": [
    "pop_mean"
   ]
  },
  {
   "cell_type": "code",
   "execution_count": null,
   "id": "3596afb6",
   "metadata": {},
   "outputs": [],
   "source": [
    "fe_compact.mean()"
   ]
  },
  {
   "cell_type": "code",
   "execution_count": null,
   "id": "4c32d25e",
   "metadata": {},
   "outputs": [],
   "source": [
    "fe_compact.hist()"
   ]
  },
  {
   "cell_type": "code",
   "execution_count": null,
   "id": "07227b74",
   "metadata": {},
   "outputs": [],
   "source": [
    "#calculate t & p\n",
    "t, p = stats.ttest_1samp(fe_compact, pop_mean)\n",
    "t, p"
   ]
  },
  {
   "cell_type": "code",
   "execution_count": null,
   "id": "6d096aba",
   "metadata": {},
   "outputs": [],
   "source": [
    "if (p/2 < alpha) and t > 0 :\n",
    "    print('Reject null')"
   ]
  },
  {
   "cell_type": "code",
   "execution_count": null,
   "id": "0e025e86",
   "metadata": {},
   "outputs": [],
   "source": [
    "mpg.head()"
   ]
  },
  {
   "cell_type": "code",
   "execution_count": null,
   "id": "08875647",
   "metadata": {},
   "outputs": [],
   "source": [
    "mpg.trans.value_counts()"
   ]
  },
  {
   "cell_type": "code",
   "execution_count": null,
   "id": "4e9e1b29",
   "metadata": {},
   "outputs": [],
   "source": [
    "fe_auto = mpg[mpg.trans.str.contains('auto')].avg_fe\n",
    "fe_manual = mpg[mpg.trans.str.contains('manual')].avg_fe"
   ]
  },
  {
   "cell_type": "code",
   "execution_count": null,
   "id": "93c97a64",
   "metadata": {},
   "outputs": [],
   "source": [
    "fe_auto.hist()"
   ]
  },
  {
   "cell_type": "code",
   "execution_count": null,
   "id": "ed20e4d3",
   "metadata": {},
   "outputs": [],
   "source": [
    "fe_manual.hist()"
   ]
  },
  {
   "cell_type": "code",
   "execution_count": null,
   "id": "87e5ad17",
   "metadata": {},
   "outputs": [],
   "source": [
    "# llok at variance\n",
    "fe_auto.var(), fe_manual.var()"
   ]
  },
  {
   "cell_type": "code",
   "execution_count": null,
   "id": "c77517f8",
   "metadata": {},
   "outputs": [],
   "source": [
    "#levene test\n",
    "stats.levene(fe_auto, fe_manual)"
   ]
  },
  {
   "cell_type": "code",
   "execution_count": null,
   "id": "62a61cbd",
   "metadata": {},
   "outputs": [],
   "source": [
    "t, p = stats.ttest_ind(fe_manual, fe_auto, equal_var=True)\n",
    "t, p/2"
   ]
  },
  {
   "cell_type": "code",
   "execution_count": null,
   "id": "730c5a35",
   "metadata": {},
   "outputs": [],
   "source": [
    "fe_manual.mean(), fe_auto.mean()"
   ]
  },
  {
   "cell_type": "code",
   "execution_count": null,
   "id": "92275e2f",
   "metadata": {},
   "outputs": [],
   "source": [
    "mpg['transmission_type'] = np.where(mpg.trans.str.contains('auto'), 'Auto Transmission', 'Manual Tranmission')"
   ]
  },
  {
   "cell_type": "markdown",
   "id": "31259f7c",
   "metadata": {},
   "source": [
    "# Correlation Exercises"
   ]
  },
  {
   "cell_type": "markdown",
   "id": "767bea04",
   "metadata": {},
   "source": [
    "\n",
    "\n",
    "    Use the telco_churn data. Does tenure correlate with monthly charges? Total charges? What happens if you control for phone and internet service?\n",
    "    Use the employees database.\n",
    "        Is there a relationship between how long an employee has been with the company and their salary?\n",
    "        Is there a relationship between how long an employee has been with the company and the number of titles they have had?\n",
    "    Use the sleepstudy data. Is there a relationship between days and reaction time?\n"
   ]
  },
  {
   "cell_type": "code",
   "execution_count": 3,
   "id": "c09908bf",
   "metadata": {},
   "outputs": [
    {
     "ename": "ModuleNotFoundError",
     "evalue": "No module named 'telco'",
     "output_type": "error",
     "traceback": [
      "\u001b[0;31m---------------------------------------------------------------------------\u001b[0m",
      "\u001b[0;31mModuleNotFoundError\u001b[0m                       Traceback (most recent call last)",
      "\u001b[0;32m/var/folders/cs/9mn89l_n6p3c9sq01q5f54kh0000gn/T/ipykernel_17567/131677266.py\u001b[0m in \u001b[0;36m<module>\u001b[0;34m\u001b[0m\n\u001b[0;32m----> 1\u001b[0;31m \u001b[0;32mimport\u001b[0m \u001b[0mtelco\u001b[0m\u001b[0;34m.\u001b[0m\u001b[0mcsv\u001b[0m\u001b[0;34m\u001b[0m\u001b[0;34m\u001b[0m\u001b[0m\n\u001b[0m\u001b[1;32m      2\u001b[0m \u001b[0murl\u001b[0m \u001b[0;34m=\u001b[0m \u001b[0;34mf'mysql+pymysql://{env.user}:{env.password}@{env.host}/telco_churn'\u001b[0m\u001b[0;34m\u001b[0m\u001b[0;34m\u001b[0m\u001b[0m\n",
      "\u001b[0;31mModuleNotFoundError\u001b[0m: No module named 'telco'"
     ]
    }
   ],
   "source": [
    "import telco.csv\n",
    "url = f'mysql+pymysql://{env.user}:{env.password}@{env.host}/telco_churn'"
   ]
  },
  {
   "cell_type": "code",
   "execution_count": 4,
   "id": "2eb4def1",
   "metadata": {},
   "outputs": [],
   "source": [
    "import env\n",
    "# url = f'mysql+pymysql://{env.user}:{env.password}@{env.host}/telco_churn'"
   ]
  },
  {
   "cell_type": "code",
   "execution_count": null,
   "id": "1a77cb85",
   "metadata": {},
   "outputs": [],
   "source": [
    "url = f'mysql+pymysql://{env.user}:{env.password}@{env.host}/telco_churn'"
   ]
  },
  {
   "cell_type": "code",
   "execution_count": null,
   "id": "7fee1fca",
   "metadata": {},
   "outputs": [],
   "source": [
    "df = pd.read_sql(\n",
    "    'select * from customers join internet_service_types using (internet_service_type_id)',\n",
    "    url\n",
    ")\n",
    "df = df[['tenure', 'monthly_charges', 'total_charges', 'internet_service_type', 'phone_service']]"
   ]
  },
  {
   "cell_type": "code",
   "execution_count": null,
   "id": "2a0e6c6b",
   "metadata": {},
   "outputs": [],
   "source": [
    "df"
   ]
  },
  {
   "cell_type": "code",
   "execution_count": null,
   "id": "8e451a2a",
   "metadata": {},
   "outputs": [],
   "source": [
    "sns.pairplot(df, corner=True)\n",
    "plt.suptitle(\"sns.pairplot visualizes continuous variable relationships\")\n",
    "plt.show()\n",
    "#thank the lord the ciriculumn covered the question"
   ]
  },
  {
   "cell_type": "code",
   "execution_count": null,
   "id": "1026fade",
   "metadata": {},
   "outputs": [],
   "source": [
    "df.info()"
   ]
  },
  {
   "cell_type": "code",
   "execution_count": null,
   "id": "dff772e0",
   "metadata": {},
   "outputs": [],
   "source": [
    "df.total_charges = df.total_charges.replace(' ', np.nan).astype(float)\n",
    "df.total_charges"
   ]
  },
  {
   "cell_type": "code",
   "execution_count": null,
   "id": "6f5f77c4",
   "metadata": {},
   "outputs": [],
   "source": [
    "df.isna().mean()"
   ]
  },
  {
   "cell_type": "code",
   "execution_count": null,
   "id": "ae2e3d4a",
   "metadata": {},
   "outputs": [],
   "source": [
    "df.shape[0]"
   ]
  },
  {
   "cell_type": "markdown",
   "id": "5c4c399e",
   "metadata": {},
   "source": [
    "## Calculate Pearson Correlation Coefficient"
   ]
  },
  {
   "cell_type": "code",
   "execution_count": null,
   "id": "27640730",
   "metadata": {},
   "outputs": [],
   "source": [
    "n = df.shape[0]\n",
    "x = df.total_charges\n",
    "y = df.tenure\n",
    "\n",
    "def stdev(x):\n",
    "    variance = ((x - x.mean()) ** 2).sum() / n\n",
    "    return sqrt(variance)\n",
    "\n",
    "r_xy = (((x - x.mean()) * (y - y.mean())).sum() / n) / (stdev(x) * stdev(y))\n",
    "r_xy"
   ]
  },
  {
   "cell_type": "code",
   "execution_count": null,
   "id": "8a5faa47",
   "metadata": {},
   "outputs": [],
   "source": [
    "t = (r_xy * sqrt(n - 2)) / sqrt(1 - r_xy**2)\n",
    "t"
   ]
  },
  {
   "cell_type": "code",
   "execution_count": null,
   "id": "0eb70d2d",
   "metadata": {},
   "outputs": [],
   "source": [
    "stats.pearsonr(df.tenure, df.monthly_charges)"
   ]
  },
  {
   "cell_type": "code",
   "execution_count": null,
   "id": "af22e92d",
   "metadata": {},
   "outputs": [],
   "source": [
    "sns.relplot(data=df, y='monthly_charges', \n",
    "            x='tenure', \n",
    "            col='internet_service_type', \n",
    "            row='phone_service')"
   ]
  },
  {
   "cell_type": "code",
   "execution_count": null,
   "id": "3daec199",
   "metadata": {},
   "outputs": [],
   "source": [
    "sns.relplot(data=df, y='monthly_charges', \n",
    "            x='tenure', \n",
    "            hue='internet_service_type')"
   ]
  },
  {
   "cell_type": "code",
   "execution_count": null,
   "id": "0a4bdde1",
   "metadata": {},
   "outputs": [],
   "source": [
    "def correlate_tenure_and_monthly_charges(df):\n",
    "    return pd.Series(stats.pearsonr(df.tenure, df.monthly_charges), index=['r', 'p'])\n",
    "\n",
    "df.groupby(['internet_service_type', 'phone_service']).apply(correlate_tenure_and_monthly_charges)"
   ]
  },
  {
   "cell_type": "code",
   "execution_count": null,
   "id": "13ba7b7d",
   "metadata": {},
   "outputs": [],
   "source": [
    "sns.relplot(data=df, y='monthly_charges', \n",
    "            x='tenure', \n",
    "            hue='phone_service')"
   ]
  },
  {
   "cell_type": "code",
   "execution_count": 6,
   "id": "ec727072",
   "metadata": {},
   "outputs": [],
   "source": [
    "url = f'mysql+pymysql://{env.user}:{env.password}@{env.host}/employees'\n",
    "\n",
    "query = '''\n",
    "\n",
    " SELECT\n",
    "     DATEDIFF((SELECT MAX(hire_date) FROM employees), e.hire_date) AS tenure,\n",
    "     s.salary AS salary\n",
    " FROM employees e\n",
    " JOIN salaries s USING (emp_no)\n",
    " WHERE s.to_date > NOW()\n",
    " '''\n",
    "\n",
    "employees_with_salaries = pd.read_sql(query,url)"
   ]
  },
  {
   "cell_type": "code",
   "execution_count": 7,
   "id": "8d3d0893",
   "metadata": {},
   "outputs": [
    {
     "data": {
      "text/html": [
       "<div>\n",
       "<style scoped>\n",
       "    .dataframe tbody tr th:only-of-type {\n",
       "        vertical-align: middle;\n",
       "    }\n",
       "\n",
       "    .dataframe tbody tr th {\n",
       "        vertical-align: top;\n",
       "    }\n",
       "\n",
       "    .dataframe thead th {\n",
       "        text-align: right;\n",
       "    }\n",
       "</style>\n",
       "<table border=\"1\" class=\"dataframe\">\n",
       "  <thead>\n",
       "    <tr style=\"text-align: right;\">\n",
       "      <th></th>\n",
       "      <th>tenure</th>\n",
       "      <th>salary</th>\n",
       "    </tr>\n",
       "  </thead>\n",
       "  <tbody>\n",
       "    <tr>\n",
       "      <th>0</th>\n",
       "      <td>4964</td>\n",
       "      <td>88958</td>\n",
       "    </tr>\n",
       "    <tr>\n",
       "      <th>1</th>\n",
       "      <td>5181</td>\n",
       "      <td>72527</td>\n",
       "    </tr>\n",
       "    <tr>\n",
       "      <th>2</th>\n",
       "      <td>4901</td>\n",
       "      <td>43311</td>\n",
       "    </tr>\n",
       "    <tr>\n",
       "      <th>3</th>\n",
       "      <td>4806</td>\n",
       "      <td>74057</td>\n",
       "    </tr>\n",
       "    <tr>\n",
       "      <th>4</th>\n",
       "      <td>3790</td>\n",
       "      <td>94692</td>\n",
       "    </tr>\n",
       "  </tbody>\n",
       "</table>\n",
       "</div>"
      ],
      "text/plain": [
       "   tenure  salary\n",
       "0    4964   88958\n",
       "1    5181   72527\n",
       "2    4901   43311\n",
       "3    4806   74057\n",
       "4    3790   94692"
      ]
     },
     "execution_count": 7,
     "metadata": {},
     "output_type": "execute_result"
    }
   ],
   "source": [
    "employees_with_salaries.head()"
   ]
  },
  {
   "cell_type": "code",
   "execution_count": 9,
   "id": "94468113",
   "metadata": {},
   "outputs": [
    {
     "data": {
      "text/plain": [
       "(240124, 2)"
      ]
     },
     "execution_count": 9,
     "metadata": {},
     "output_type": "execute_result"
    }
   ],
   "source": [
    "employees_with_salaries.shape"
   ]
  },
  {
   "cell_type": "code",
   "execution_count": 11,
   "id": "733d29d6",
   "metadata": {},
   "outputs": [
    {
     "data": {
      "text/plain": [
       "(0.30646256131860783, 0.0)"
      ]
     },
     "execution_count": 11,
     "metadata": {},
     "output_type": "execute_result"
    }
   ],
   "source": [
    "stats.pearsonr(employees_with_salaries.tenure, employees_with_salaries.salary)"
   ]
  },
  {
   "cell_type": "code",
   "execution_count": 13,
   "id": "01b1f3fa",
   "metadata": {},
   "outputs": [
    {
     "data": {
      "text/plain": [
       "<seaborn.axisgrid.FacetGrid at 0x7ff276f6e9a0>"
      ]
     },
     "execution_count": 13,
     "metadata": {},
     "output_type": "execute_result"
    },
    {
     "data": {
      "image/png": "[encoded data removed]",
      "text/plain": [
       "<Figure size 360x360 with 1 Axes>"
      ]
     },
     "metadata": {
      "needs_background": "light"
     },
     "output_type": "display_data"
    }
   ],
   "source": [
    "sns.relplot(data=employees_with_salaries, y='salary', x='tenure')"
   ]
  },
  {
   "cell_type": "code",
   "execution_count": 16,
   "id": "a5a32246",
   "metadata": {},
   "outputs": [
    {
     "name": "stdout",
     "output_type": "stream",
     "text": [
      "sleepstudy\n",
      "\n",
      "PyDataset Documentation (adopted from R Documentation. The displayed examples are in R)\n",
      "\n",
      "## Reaction times in a sleep deprivation study\n",
      "\n",
      "### Description\n",
      "\n",
      "The average reaction time per day for subjects in a sleep deprivation study.\n",
      "On day 0 the subjects had their normal amount of sleep. Starting that night\n",
      "they were restricted to 3 hours of sleep per night. The observations represent\n",
      "the average reaction time on a series of tests given each day to each subject.\n",
      "\n",
      "### Format\n",
      "\n",
      "A data frame with 180 observations on the following 3 variables.\n",
      "\n",
      "`Reaction`\n",
      "\n",
      "Average reaction time (ms)\n",
      "\n",
      "`Days`\n",
      "\n",
      "Number of days of sleep deprivation\n",
      "\n",
      "`Subject`\n",
      "\n",
      "Subject number on which the observation was made.\n",
      "\n",
      "### Details\n",
      "\n",
      "These data are from the study described in Belenky et al. (2003), for the\n",
      "sleep-deprived group and for the first 10 days of the study, up to the\n",
      "recovery period.\n",
      "\n",
      "### References\n",
      "\n",
      "Gregory Belenky, Nancy J. Wesensten, David R. Thorne, Maria L. Thomas, Helen\n",
      "C. Sing, Daniel P. Redmond, Michael B. Russo and Thomas J. Balkin (2003)\n",
      "Patterns of performance degradation and restoration during sleep restriction\n",
      "and subsequent recovery: a sleep dose-response study. _Journal of Sleep\n",
      "Research_ **12**, 1–12.\n",
      "\n",
      "### Examples\n",
      "\n",
      "    str(sleepstudy)\n",
      "    require(lattice)\n",
      "    xyplot(Reaction ~ Days | Subject, sleepstudy, type = c(\"g\",\"p\",\"r\"),\n",
      "           index = function(x,y) coef(lm(y ~ x))[1],\n",
      "           xlab = \"Days of sleep deprivation\",\n",
      "           ylab = \"Average reaction time (ms)\", aspect = \"xy\")\n",
      "    (fm1 <- lmer(Reaction ~ Days + (Days|Subject), sleepstudy))\n",
      "    (fm2 <- lmer(Reaction ~ Days + (1|Subject) + (0+Days|Subject), sleepstudy))\n",
      "\n",
      "\n"
     ]
    }
   ],
   "source": [
    "data('sleepstudy', show_doc=True)"
   ]
  },
  {
   "cell_type": "code",
   "execution_count": 18,
   "id": "5e99e8b3",
   "metadata": {},
   "outputs": [
    {
     "data": {
      "text/html": [
       "<div>\n",
       "<style scoped>\n",
       "    .dataframe tbody tr th:only-of-type {\n",
       "        vertical-align: middle;\n",
       "    }\n",
       "\n",
       "    .dataframe tbody tr th {\n",
       "        vertical-align: top;\n",
       "    }\n",
       "\n",
       "    .dataframe thead th {\n",
       "        text-align: right;\n",
       "    }\n",
       "</style>\n",
       "<table border=\"1\" class=\"dataframe\">\n",
       "  <thead>\n",
       "    <tr style=\"text-align: right;\">\n",
       "      <th></th>\n",
       "      <th>Reaction</th>\n",
       "      <th>Days</th>\n",
       "      <th>Subject</th>\n",
       "    </tr>\n",
       "  </thead>\n",
       "  <tbody>\n",
       "    <tr>\n",
       "      <th>1</th>\n",
       "      <td>249.5600</td>\n",
       "      <td>0</td>\n",
       "      <td>308</td>\n",
       "    </tr>\n",
       "    <tr>\n",
       "      <th>2</th>\n",
       "      <td>258.7047</td>\n",
       "      <td>1</td>\n",
       "      <td>308</td>\n",
       "    </tr>\n",
       "    <tr>\n",
       "      <th>3</th>\n",
       "      <td>250.8006</td>\n",
       "      <td>2</td>\n",
       "      <td>308</td>\n",
       "    </tr>\n",
       "    <tr>\n",
       "      <th>4</th>\n",
       "      <td>321.4398</td>\n",
       "      <td>3</td>\n",
       "      <td>308</td>\n",
       "    </tr>\n",
       "    <tr>\n",
       "      <th>5</th>\n",
       "      <td>356.8519</td>\n",
       "      <td>4</td>\n",
       "      <td>308</td>\n",
       "    </tr>\n",
       "  </tbody>\n",
       "</table>\n",
       "</div>"
      ],
      "text/plain": [
       "   Reaction  Days  Subject\n",
       "1  249.5600     0      308\n",
       "2  258.7047     1      308\n",
       "3  250.8006     2      308\n",
       "4  321.4398     3      308\n",
       "5  356.8519     4      308"
      ]
     },
     "execution_count": 18,
     "metadata": {},
     "output_type": "execute_result"
    }
   ],
   "source": [
    "sleep = data('sleepstudy')\n",
    "sleep.head()"
   ]
  },
  {
   "cell_type": "markdown",
   "id": "9f9e9dc2",
   "metadata": {},
   "source": [
    "## follow along"
   ]
  },
  {
   "cell_type": "code",
   "execution_count": null,
   "id": "c047c860",
   "metadata": {},
   "outputs": [],
   "source": [
    "import pandas as pd\n",
    "import numpy as np\n",
    "from scipy import stats\n",
    "import pydataset\n",
    "import matplotlib"
   ]
  }
 ],
 "metadata": {
  "kernelspec": {
   "display_name": "Python 3 (ipykernel)",
   "language": "python",
   "name": "python3"
  },
  "language_info": {
   "codemirror_mode": {
    "name": "ipython",
    "version": 3
   },
   "file_extension": ".py",
   "mimetype": "text/x-python",
   "name": "python",
   "nbconvert_exporter": "python",
   "pygments_lexer": "ipython3",
   "version": "3.9.7"
  }
 },
 "nbformat": 4,
 "nbformat_minor": 5
}
