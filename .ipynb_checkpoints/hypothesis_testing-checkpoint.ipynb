{
 "cells": [
  {
   "cell_type": "markdown",
   "id": "cff0ccc6",
   "metadata": {},
   "source": [
    "# Exercises \n",
    "For each of the following questions, formulate a null and alternative hypothesis (be as specific as you can be), then give an example of what a true positive, true negative, type I and type II errors would look like. Note that some of the questions are intentionally phrased in a vague way. It is your job to reword these as more precise questions that could be tested.\n",
    "- Has the network latency gone up since we switched internet service providers?\n",
    "- Is the website redesign any good?\n",
    "- Is our television ad driving more sales?"
   ]
  },
  {
   "cell_type": "markdown",
   "id": "53754956",
   "metadata": {},
   "source": [
    "## null hypotheses\n",
    "- no it has be the same\n",
    "- yes the redesign is fine, there is no difference\n",
    "- no it is pulling the same amount of viewers"
   ]
  },
  {
   "cell_type": "markdown",
   "id": "4145f1f5",
   "metadata": {},
   "source": [
    "## alternative hypotheses\n",
    "- there is a different latency then the last provider (more or less)\n",
    "- there is a changed amount of users on the website (more or less)\n",
    "- the ad is now pulling more customers, or getting less engagment"
   ]
  },
  {
   "cell_type": "markdown",
   "id": "fee6759b",
   "metadata": {},
   "source": [
    "## true positive\n",
    "- there is an decrease in latency after switch to new provider\n",
    "- the website redesign was good, greater overall customer interaction\n",
    "- the television ad is successfully bringing in more sales"
   ]
  },
  {
   "cell_type": "markdown",
   "id": "b075648f",
   "metadata": {},
   "source": [
    "## type 1 error\n",
    "- the internet feels faster when in reality not\n",
    "- the website initially had a gain then fell back down to the median\n",
    "- sales have increased but when surveyed the customers did not list the ad as seen"
   ]
  },
  {
   "cell_type": "markdown",
   "id": "deffe35c",
   "metadata": {},
   "source": [
    "## true negative\n",
    "- there is no difference is latency or speed\n",
    "- the website is too complicated\n",
    "- the television ad doesn't bring in more attention or money"
   ]
  },
  {
   "cell_type": "markdown",
   "id": "b7b8d993",
   "metadata": {},
   "source": [
    "## type 2 error\n",
    "- when testing the internet speed there is no difference but internet can now stream hd\n",
    "- cannot tell on the website but revenew is returning higher\n",
    "- the add is not referenced in purchase, purchases are increasing"
   ]
  },
  {
   "cell_type": "code",
   "execution_count": null,
   "id": "eb4c5e7f",
   "metadata": {},
   "outputs": [],
   "source": []
  }
 ],
 "metadata": {
  "kernelspec": {
   "display_name": "Python 3 (ipykernel)",
   "language": "python",
   "name": "python3"
  },
  "language_info": {
   "codemirror_mode": {
    "name": "ipython",
    "version": 3
   },
   "file_extension": ".py",
   "mimetype": "text/x-python",
   "name": "python",
   "nbconvert_exporter": "python",
   "pygments_lexer": "ipython3",
   "version": "3.9.7"
  }
 },
 "nbformat": 4,
 "nbformat_minor": 5
}
