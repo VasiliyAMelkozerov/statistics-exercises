{
 "cells": [
  {
   "cell_type": "code",
   "execution_count": 1,
   "id": "50947597",
   "metadata": {},
   "outputs": [],
   "source": [
    "%matplotlib inline\n",
    "\n",
    "import numpy as np\n",
    "import pandas as pd\n",
    "\n",
    "import viz # curriculum example visualizations"
   ]
  },
  {
   "cell_type": "code",
   "execution_count": 188,
   "id": "dfac3921",
   "metadata": {},
   "outputs": [
    {
     "data": {
      "text/plain": [
       "array([['Fri', 'Wed', 'Tues'],\n",
       "       ['Thur', 'Tues', 'Wed'],\n",
       "       ['Mon', 'Mon', 'Wed'],\n",
       "       ...,\n",
       "       ['Thur', 'Mon', 'Tues'],\n",
       "       ['Wed', 'Tues', 'Fri'],\n",
       "       ['Mon', 'Mon', 'Tues']], dtype='<U4')"
      ]
     },
     "execution_count": 188,
     "metadata": {},
     "output_type": "execute_result"
    }
   ],
   "source": [
    "n_trials = nrows = 10_000\n",
    "n_dice = ncols = 3\n",
    "# [1, 2, 3, 4, 5, 6]\n",
    "rolls = np.random.choice(['Mon','Tues','Wed','Thur','Fri'], n_trials * n_dice).reshape(nrows, ncols)\n",
    "rolls"
   ]
  },
  {
   "cell_type": "code",
   "execution_count": 3,
   "id": "f2ffcf83",
   "metadata": {},
   "outputs": [
    {
     "data": {
      "text/plain": [
       "array([ 6, 11,  5, ..., 10,  9, 15])"
      ]
     },
     "execution_count": 3,
     "metadata": {},
     "output_type": "execute_result"
    }
   ],
   "source": [
    "sums_by_trial = rolls.sum(axis=1)\n",
    "sums_by_trial"
   ]
  },
  {
   "cell_type": "code",
   "execution_count": 282,
   "id": "f548e097",
   "metadata": {},
   "outputs": [],
   "source": [
    "# viz.simulation_example1(sums_by_trial)"
   ]
  },
  {
   "cell_type": "code",
   "execution_count": 5,
   "id": "44b9cb06",
   "metadata": {},
   "outputs": [
    {
     "data": {
      "text/plain": [
       "array([False, False, False, ..., False, False,  True])"
      ]
     },
     "execution_count": 5,
     "metadata": {},
     "output_type": "execute_result"
    }
   ],
   "source": [
    "wins = sums_by_trial > 12\n",
    "wins"
   ]
  },
  {
   "cell_type": "code",
   "execution_count": 6,
   "id": "74341276",
   "metadata": {},
   "outputs": [
    {
     "data": {
      "text/plain": [
       "0.2627"
      ]
     },
     "execution_count": 6,
     "metadata": {},
     "output_type": "execute_result"
    }
   ],
   "source": [
    "win_rate = wins.astype(int).mean()\n",
    "win_rate"
   ]
  },
  {
   "cell_type": "code",
   "execution_count": 7,
   "id": "c1d37f92",
   "metadata": {},
   "outputs": [
    {
     "data": {
      "text/plain": [
       "-1.0595000000000003"
      ]
     },
     "execution_count": 7,
     "metadata": {},
     "output_type": "execute_result"
    }
   ],
   "source": [
    "expected_winnings = win_rate * 15\n",
    "cost = 5\n",
    "expected_profit = expected_winnings - cost\n",
    "expected_profit"
   ]
  },
  {
   "cell_type": "code",
   "execution_count": 8,
   "id": "96f3fd25",
   "metadata": {},
   "outputs": [
    {
     "data": {
      "text/plain": [
       "0.6129999999999995"
      ]
     },
     "execution_count": 8,
     "metadata": {},
     "output_type": "execute_result"
    }
   ],
   "source": [
    "wins = sums_by_trial >= 12\n",
    "win_rate = wins.astype(int).mean()\n",
    "expected_winnings = win_rate * 15\n",
    "cost = 5\n",
    "expected_profit = expected_winnings - cost\n",
    "expected_profit"
   ]
  },
  {
   "cell_type": "code",
   "execution_count": 9,
   "id": "548e7a58",
   "metadata": {},
   "outputs": [
    {
     "data": {
      "text/plain": [
       "0.3051"
      ]
     },
     "execution_count": 9,
     "metadata": {},
     "output_type": "execute_result"
    }
   ],
   "source": [
    "n_trials = nrows = 10_000\n",
    "n_dice = ncols = 2\n",
    "\n",
    "rolls = np.random.choice([1, 2, 3, 4, 5, 6], n_trials * n_dice).reshape(nrows, ncols)\n",
    "rolls\n",
    "\n",
    "(pd.DataFrame(rolls)\n",
    " .apply(lambda row: n_dice == n_dice in row.values, axis=1)\n",
    " .mean())"
   ]
  },
  {
   "cell_type": "markdown",
   "id": "a0f0463d",
   "metadata": {},
   "source": [
    "## #1 How likely is it that you roll doubles when rolling two dice?"
   ]
  },
  {
   "cell_type": "code",
   "execution_count": 10,
   "id": "29c2d7bb",
   "metadata": {},
   "outputs": [
    {
     "data": {
      "text/plain": [
       "0.162"
      ]
     },
     "execution_count": 10,
     "metadata": {},
     "output_type": "execute_result"
    }
   ],
   "source": [
    "# use lambda to evaluate a condition row-wise\n",
    "(pd.DataFrame(rolls).apply(lambda row: row[0] == row[1], axis =1)).mean()"
   ]
  },
  {
   "cell_type": "code",
   "execution_count": 11,
   "id": "6eb7a086",
   "metadata": {},
   "outputs": [
    {
     "data": {
      "text/plain": [
       "array([9, 9, 5, ..., 8, 8, 6])"
      ]
     },
     "execution_count": 11,
     "metadata": {},
     "output_type": "execute_result"
    }
   ],
   "source": [
    "trial = rolls.sum(axis=1)\n",
    "trial"
   ]
  },
  {
   "cell_type": "markdown",
   "id": "8978baea",
   "metadata": {},
   "source": [
    "## #2 If you flip 8 coins, what is the probability of getting exactly 3 heads? What is the probability of getting more than 3 heads?"
   ]
  },
  {
   "cell_type": "code",
   "execution_count": 295,
   "id": "860be624",
   "metadata": {},
   "outputs": [
    {
     "data": {
      "text/plain": [
       "0.8577"
      ]
     },
     "execution_count": 295,
     "metadata": {},
     "output_type": "execute_result"
    }
   ],
   "source": [
    "trial_n = nrows = 10_000\n",
    "\n",
    "coin = ncols = 8\n",
    "\n",
    "coin_flips = np.random.choice(['Heads','Tails'], trial_n * coin).reshape(nrows, ncols)\n",
    "\n",
    "# coin_flips = np.random.choice(['Heads','Tails'], coin * trial_n)\n",
    "n_heads = (coin_flips == 'Heads').sum(axis = 1)\n",
    "# n_heads\n",
    "(n_heads >= 3).mean()"
   ]
  },
  {
   "cell_type": "markdown",
   "id": "4c1e05a5",
   "metadata": {},
   "source": [
    "## #3 There are approximitely 3 web development cohorts for every 1 data science cohort at Codeup. Assuming that Codeup randomly selects an alumni to put on a billboard, what are the odds that the two billboards I drive past both have data science students on them?"
   ]
  },
  {
   "cell_type": "code",
   "execution_count": 296,
   "id": "773d9235",
   "metadata": {},
   "outputs": [],
   "source": [
    "#that tells me that it is 1 in 4 chance of picking a data science cohort\n",
    "nrows=2\n",
    "ncols=1\n",
    "#the answer is 1 out of 8 chance of both being data science cohort\n",
    "web_dev = 0\n",
    "data_sci = 0\n",
    "cohorts = web_dev + data_sci\n",
    "\n",
    "# np.random.choice(['Web_dev','Web_dev','Web_dev','Data_sci']).mean()\n",
    "#run multiple times to render a result score\n",
    "#currently not running multiple times\n",
    "\n",
    "# billboard=np.random.choice([False,False,False,True], size=1000).reshape(2, 1000)\n",
    "# pd.Dataframe(billboard)\n",
    "# (pd.DataFrame(billboard).apply(lambda row: row[0] == row[1], axis =1)).mean()"
   ]
  },
  {
   "cell_type": "code",
   "execution_count": 300,
   "id": "8743bdf5",
   "metadata": {},
   "outputs": [
    {
     "data": {
      "text/plain": [
       "array([['Data Science', 'Web Development'],\n",
       "       ['Data Science', 'Web Development'],\n",
       "       ['Web Development', 'Web Development'],\n",
       "       ...,\n",
       "       ['Web Development', 'Web Development'],\n",
       "       ['Data Science', 'Data Science'],\n",
       "       ['Web Development', 'Web Development']], dtype='<U15')"
      ]
     },
     "execution_count": 300,
     "metadata": {},
     "output_type": "execute_result"
    }
   ],
   "source": [
    "nrows=10_000\n",
    "ncols=2\n",
    "np.random.choice([\"Web Development\",\"Data Science\"], p =[.75,.25],size=(nrows,ncols))"
   ]
  },
  {
   "cell_type": "code",
   "execution_count": 14,
   "id": "31a182f8",
   "metadata": {},
   "outputs": [],
   "source": [
    "# (pd.DataFrame(billboard).apply(lambda row: row[0] == row[1], axis =1)).mean()"
   ]
  },
  {
   "cell_type": "code",
   "execution_count": 15,
   "id": "2001e65f",
   "metadata": {},
   "outputs": [],
   "source": [
    "billboards = 10**5\n",
    "cohort = 2\n",
    "sign = np.random.choice([1,0,0,0], billboards * cohort).reshape(billboards, cohort)\n",
    "sign = pd.DataFrame(sign)"
   ]
  },
  {
   "cell_type": "code",
   "execution_count": 16,
   "id": "3c3cc139",
   "metadata": {},
   "outputs": [
    {
     "data": {
      "text/html": [
       "<div>\n",
       "<style scoped>\n",
       "    .dataframe tbody tr th:only-of-type {\n",
       "        vertical-align: middle;\n",
       "    }\n",
       "\n",
       "    .dataframe tbody tr th {\n",
       "        vertical-align: top;\n",
       "    }\n",
       "\n",
       "    .dataframe thead th {\n",
       "        text-align: right;\n",
       "    }\n",
       "</style>\n",
       "<table border=\"1\" class=\"dataframe\">\n",
       "  <thead>\n",
       "    <tr style=\"text-align: right;\">\n",
       "      <th></th>\n",
       "      <th>0</th>\n",
       "      <th>1</th>\n",
       "    </tr>\n",
       "  </thead>\n",
       "  <tbody>\n",
       "    <tr>\n",
       "      <th>0</th>\n",
       "      <td>1</td>\n",
       "      <td>0</td>\n",
       "    </tr>\n",
       "    <tr>\n",
       "      <th>1</th>\n",
       "      <td>0</td>\n",
       "      <td>0</td>\n",
       "    </tr>\n",
       "    <tr>\n",
       "      <th>2</th>\n",
       "      <td>0</td>\n",
       "      <td>0</td>\n",
       "    </tr>\n",
       "    <tr>\n",
       "      <th>3</th>\n",
       "      <td>0</td>\n",
       "      <td>1</td>\n",
       "    </tr>\n",
       "    <tr>\n",
       "      <th>4</th>\n",
       "      <td>0</td>\n",
       "      <td>0</td>\n",
       "    </tr>\n",
       "    <tr>\n",
       "      <th>...</th>\n",
       "      <td>...</td>\n",
       "      <td>...</td>\n",
       "    </tr>\n",
       "    <tr>\n",
       "      <th>99995</th>\n",
       "      <td>0</td>\n",
       "      <td>0</td>\n",
       "    </tr>\n",
       "    <tr>\n",
       "      <th>99996</th>\n",
       "      <td>1</td>\n",
       "      <td>0</td>\n",
       "    </tr>\n",
       "    <tr>\n",
       "      <th>99997</th>\n",
       "      <td>0</td>\n",
       "      <td>0</td>\n",
       "    </tr>\n",
       "    <tr>\n",
       "      <th>99998</th>\n",
       "      <td>1</td>\n",
       "      <td>0</td>\n",
       "    </tr>\n",
       "    <tr>\n",
       "      <th>99999</th>\n",
       "      <td>0</td>\n",
       "      <td>0</td>\n",
       "    </tr>\n",
       "  </tbody>\n",
       "</table>\n",
       "<p>100000 rows × 2 columns</p>\n",
       "</div>"
      ],
      "text/plain": [
       "       0  1\n",
       "0      1  0\n",
       "1      0  0\n",
       "2      0  0\n",
       "3      0  1\n",
       "4      0  0\n",
       "...   .. ..\n",
       "99995  0  0\n",
       "99996  1  0\n",
       "99997  0  0\n",
       "99998  1  0\n",
       "99999  0  0\n",
       "\n",
       "[100000 rows x 2 columns]"
      ]
     },
     "execution_count": 16,
     "metadata": {},
     "output_type": "execute_result"
    }
   ],
   "source": [
    "sign"
   ]
  },
  {
   "cell_type": "code",
   "execution_count": 17,
   "id": "75d48886",
   "metadata": {},
   "outputs": [
    {
     "data": {
      "text/plain": [
       "0.0602"
      ]
     },
     "execution_count": 17,
     "metadata": {},
     "output_type": "execute_result"
    }
   ],
   "source": [
    "sign.apply((lambda row: row.sum() ==  2 ),axis=1).mean()"
   ]
  },
  {
   "cell_type": "markdown",
   "id": "b39e9bd5",
   "metadata": {},
   "source": [
    "## #4 Codeup students buy, on average, 3 poptart packages with a standard deviation of 1.5 a day from the snack vending machine. If on monday the machine is restocked with 17 poptart packages, how likely is it that I will be able to buy some poptarts on Friday afternoon? (Remember, if you have mean and standard deviation, use the np.random.normal)"
   ]
  },
  {
   "cell_type": "code",
   "execution_count": 293,
   "id": "b582f8f4",
   "metadata": {},
   "outputs": [
    {
     "data": {
      "text/plain": [
       "0.329602"
      ]
     },
     "execution_count": 293,
     "metadata": {},
     "output_type": "execute_result"
    }
   ],
   "source": [
    "#students usually by 3 poptarts give or take about 1 and a half poptart(s)\n",
    "#run at squared rates of 100 similair to last problem\n",
    "average = 3\n",
    "standard_deviation = 1.5\n",
    "#giving us about 4.5 poptarts eaten daily * 5 = 20, instinctually we see that answer is not guaranteed\n",
    "#think of each day someone eats at least 3\n",
    "poptarts=np.random.normal(loc=3,scale=1.5, size=(1_000_000,5)).round().astype(int)\n",
    "poptarts=poptarts.sum(axis=1)\n",
    "# viz.simulation_example1(poptarts)\n",
    "available = poptarts >= 17\n",
    "available\n",
    "win_rate = available.astype(int).mean()\n",
    "win_rate\n",
    "#He has rough %32.9602 of him being able to get one\n",
    "#so with the above code it gives me the totals of these rolls landing in a 5 day week"
   ]
  },
  {
   "cell_type": "code",
   "execution_count": 160,
   "id": "c4566b82",
   "metadata": {},
   "outputs": [],
   "source": [
    "# now i need to run it a bunch of times\n",
    "# poptarts_eaten = \n",
    "billboards = 10**5\n",
    "cohort = 2\n",
    "poptarts = np.random.normal(loc=3,scale=1.5)\n",
    "# np.random.choice(poptarts, billboards * cohort).reshape(billboards, cohort)\n",
    "# maybe what i need to do instead is wrap it in a data frame"
   ]
  },
  {
   "cell_type": "markdown",
   "id": "09394e7f",
   "metadata": {},
   "source": [
    "## #"
   ]
  }
 ],
 "metadata": {
  "kernelspec": {
   "display_name": "Python 3 (ipykernel)",
   "language": "python",
   "name": "python3"
  },
  "language_info": {
   "codemirror_mode": {
    "name": "ipython",
    "version": 3
   },
   "file_extension": ".py",
   "mimetype": "text/x-python",
   "name": "python",
   "nbconvert_exporter": "python",
   "pygments_lexer": "ipython3",
   "version": "3.9.7"
  }
 },
 "nbformat": 4,
 "nbformat_minor": 5
}
